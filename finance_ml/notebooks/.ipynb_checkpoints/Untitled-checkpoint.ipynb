{
 "cells": [
  {
   "cell_type": "code",
   "execution_count": 1,
   "metadata": {},
   "outputs": [],
   "source": [
    "import numpy as np\n",
    "import pandas as pd\n",
    "import sqlite3\n",
    "import json\n",
    "from lightgbm import LGBMRegressor\n",
    "from datetime import datetime, timedelta, date\n",
    "from collections import namedtuple, defaultdict\n",
    "from typing import Tuple\n",
    "from sklearn.linear_model import LinearRegression\n",
    "from sklearn import metrics\n",
    "from sklearn.preprocessing import StandardScaler\n",
    "from scipy import stats\n",
    "import matplotlib.pyplot as plt\n",
    "from sklearn.base import BaseEstimator, TransformerMixin\n",
    "from sklearn.pipeline import Pipeline\n",
    "from typing import List, Tuple, Dict\n",
    "from sklearn.compose import ColumnTransformer\n",
    "import warnings\n",
    "import plotly.express as px\n",
    "import plotly.graph_objects as go\n",
    "from xgboost import XGBRegressor\n",
    "from copy import deepcopy\n",
    "import os\n",
    "import sys\n",
    "\n",
    "module_path = os.path.abspath(os.path.join('../..'))\n",
    "if module_path not in sys.path:\n",
    "    sys.path.append(module_path)\n",
    "    \n",
    "from finance_ml.variants.linear_model.main import main\n",
    "from finance_ml.variants.linear_model.hyperparams import Hyperparams\n",
    "from finance_ml.variants.linear_model.preprocessing import (apply_engineered_columns,\n",
    "    preprocess_data, preprocess_quarterly_data, preprocess_stockpup_data, read_stock_info,\n",
    "    compare_to_market_indices)\n",
    "from finance_ml.utils.constants import (\n",
    "    QuarterlyColumns, StockPupColumns, STOCKPUP_TABLE_NAME, QUARTERLY_DB_FILE_PATH,\n",
    "    YF_QUARTERLY_TABLE_NAME, INDEX_COLUMNS, MISSING_SECTOR, MISSING_INDUSTRY,\n",
    "    STOCK_GENERAL_INFO_CSV, FORMULAE, Q_DELTA_PREFIX, YOY_DELTA_PREFIX,\n",
    "    QUARTER, YEAR, VS_MKT_IDX, CATEGORICAL_COLUMNS, NUMERIC_COLUMNS\n",
    ")\n",
    "from finance_ml.variants.linear_model.config import FEATURE_COLUMNS\n",
    "\n",
    "\n",
    "warnings.simplefilter(action='ignore', category=FutureWarning)\n",
    "\n",
    "pd.set_option('display.max_columns', None)\n",
    "\n",
    "%load_ext autoreload\n",
    "%autoreload 2"
   ]
  },
  {
   "cell_type": "code",
   "execution_count": null,
   "metadata": {},
   "outputs": [],
   "source": []
  },
  {
   "cell_type": "code",
   "execution_count": 2,
   "metadata": {},
   "outputs": [],
   "source": [
    "from datetime import datetime, timedelta\n",
    "import pandas as pd\n",
    "from sklearn.pipeline import Pipeline\n",
    "\n",
    "from finance_ml.utils.constants import (\n",
    "    TARGET_COLUMN, QuarterlyColumns, CATEGORICAL_COLUMNS, INDEX_COLUMNS)\n",
    "from finance_ml.utils.quarterly_index import QuarterlyIndex\n",
    "from finance_ml.utils.transforms import (\n",
    "    IndexSwitchTransformer, NumericalScaler, CategoricalToDummy, ColumnFilter, DateFilter,\n",
    "    QuarterFilter, OutlierExtractor, CategoricalToNumeric, Splitter)\n",
    "\n",
    "from finance_ml.variants.linear_model.preprocessing import preprocess_data\n",
    "from finance_ml.variants.linear_model.hyperparams import Hyperparams\n",
    "from finance_ml.variants.linear_model.train import train_and_evaluate\n",
    "\n",
    "\n",
    "def _get_target_col_prediction(row: pd.Series, df: pd.DataFrame, hyperparams: Hyperparams):\n",
    "    try:\n",
    "        target_prediction_index = QuarterlyIndex(*row.name).time_travel(\n",
    "            hyperparams.N_QUARTERS_OUT_TO_PREDICT).to_tuple()\n",
    "\n",
    "        prediction_data = df.loc[target_prediction_index]\n",
    "        return prediction_data[\n",
    "            f'{hyperparams.PREDICTION_TARGET_PREFIX}{QuarterlyColumns.PRICE_AVG}']\n",
    "    except:\n",
    "        return None\n"
   ]
  },
  {
   "cell_type": "code",
   "execution_count": null,
   "metadata": {},
   "outputs": [
    {
     "name": "stderr",
     "output_type": "stream",
     "text": [
      "/Users/ezras/projects/personal/finance_ml/finance_ml/variants/linear_model/preprocessing.py:91: SettingWithCopyWarning:\n",
      "\n",
      "\n",
      "A value is trying to be set on a copy of a slice from a DataFrame\n",
      "\n",
      "See the caveats in the documentation: https://pandas.pydata.org/pandas-docs/stable/user_guide/indexing.html#returning-a-view-versus-a-copy\n",
      "\n"
     ]
    }
   ],
   "source": [
    "hyperparams = Hyperparams()\n",
    "df = preprocess_data(hyperparams)"
   ]
  },
  {
   "cell_type": "code",
   "execution_count": null,
   "metadata": {},
   "outputs": [],
   "source": []
  },
  {
   "cell_type": "code",
   "execution_count": 44,
   "metadata": {},
   "outputs": [
    {
     "name": "stdout",
     "output_type": "stream",
     "text": [
      "(62466, 99)\n"
     ]
    }
   ],
   "source": [
    "df = df_copy.copy()\n",
    "print(df.shape)"
   ]
  },
  {
   "cell_type": "code",
   "execution_count": 47,
   "metadata": {},
   "outputs": [],
   "source": []
  },
  {
   "cell_type": "code",
   "execution_count": 48,
   "metadata": {},
   "outputs": [
    {
     "name": "stdout",
     "output_type": "stream",
     "text": [
      "Dropping columns not in features: ['AvgRecommendations', 'Date', 'MarketCap', 'Revenue', 'Investments', 'NetBorrowings', 'Split']\n",
      "Shape after dropping columns: (62466, 92)\n",
      "Shape after adding Target Column: (62466, 93)\n",
      "Shape after dropping NA's in target column: (58796, 93)\n",
      "QuarterFilter removed 9838 rows\n",
      "QuarterFilter output size: (48958, 93)\n",
      "(48958, 93)\n"
     ]
    }
   ],
   "source": [
    "columns_to_drop = list(set(df.columns).difference({*FEATURE_COLUMNS}))\n",
    "print(f\"Dropping columns not in features: {columns_to_drop}\")\n",
    "df.drop(columns=columns_to_drop, inplace=True)\n",
    "print(f\"Shape after dropping columns: {df.shape}\")\n",
    "\n",
    "target_col = df.apply(_get_target_col_prediction, axis=1,\n",
    "                             df=df, hyperparams=hyperparams)\n",
    "df[TARGET_COLUMN] = target_col\n",
    "print(f\"Shape after adding Target Column: {df.shape}\")\n",
    "\n",
    "# Get dataframe of rows to make predictions on (most recent rows)\n",
    "prediction_candidate_df = df[df[TARGET_COLUMN].isnull()]\n",
    "df.dropna(subset=[TARGET_COLUMN], inplace=True)\n",
    "print(f\"Shape after dropping NA's in target column: {df.shape}\")\n",
    "\n",
    "non_categorical_columns = list(set(df.columns).difference({*CATEGORICAL_COLUMNS}))\n",
    "\n",
    "numerical_scaler = NumericalScaler(columns=non_categorical_columns)\n",
    "outlier_extractor = OutlierExtractor(columns=non_categorical_columns)\n",
    "categorical_to_dummy = CategoricalToDummy(CATEGORICAL_COLUMNS)\n",
    "categorical_to_numeric = CategoricalToNumeric(CATEGORICAL_COLUMNS)\n",
    "date_filter = QuarterFilter(\n",
    "    start_date=hyperparams.START_DATE,\n",
    "    end_date=hyperparams.END_DATE or datetime.now() - timedelta(days=90))\n",
    "\n",
    "data_pipeline = Pipeline(steps=[('filter_dates', date_filter)])\n",
    "\n",
    "if hyperparams.EXTRACT_OUTLIERS:\n",
    "    data_pipeline.steps.append(('extract_outliers', outlier_extractor))\n",
    "\n",
    "if hyperparams.ONE_HOT_ENCODE:\n",
    "    data_pipeline.steps.append(('one_hot_encode', categorical_to_dummy))\n",
    "elif hyperparams.NUMERIC_ENCODE_CATEGORIES:\n",
    "    data_pipeline.steps.append(('cat_to_numeric', categorical_to_numeric))\n",
    "\n",
    "if hyperparams.SCALE_NUMERICS:\n",
    "    data_pipeline.steps.append(('numeric_scaler', numerical_scaler))\n",
    "\n",
    "X_transformed = data_pipeline.fit_transform(df)\n",
    "print(X_transformed.shape)\n",
    "\n"
   ]
  },
  {
   "cell_type": "code",
   "execution_count": null,
   "metadata": {},
   "outputs": [],
   "source": []
  },
  {
   "cell_type": "code",
   "execution_count": null,
   "metadata": {},
   "outputs": [],
   "source": []
  },
  {
   "cell_type": "code",
   "execution_count": 50,
   "metadata": {},
   "outputs": [
    {
     "name": "stdout",
     "output_type": "stream",
     "text": [
      "[1]\tvalid_0's l1: 0.27108\tvalid_0's l2: 0.199382\n",
      "[2]\tvalid_0's l1: 0.268545\tvalid_0's l2: 0.192886\n",
      "[3]\tvalid_0's l1: 0.266277\tvalid_0's l2: 0.187559\n",
      "[4]\tvalid_0's l1: 0.264309\tvalid_0's l2: 0.183523\n",
      "[5]\tvalid_0's l1: 0.26302\tvalid_0's l2: 0.180243\n",
      "[6]\tvalid_0's l1: 0.261708\tvalid_0's l2: 0.177981\n",
      "[7]\tvalid_0's l1: 0.260567\tvalid_0's l2: 0.174814\n",
      "[8]\tvalid_0's l1: 0.25959\tvalid_0's l2: 0.173211\n",
      "[9]\tvalid_0's l1: 0.258799\tvalid_0's l2: 0.172217\n",
      "[10]\tvalid_0's l1: 0.258173\tvalid_0's l2: 0.171121\n",
      "[11]\tvalid_0's l1: 0.257389\tvalid_0's l2: 0.169239\n",
      "[12]\tvalid_0's l1: 0.256849\tvalid_0's l2: 0.168151\n",
      "[13]\tvalid_0's l1: 0.256963\tvalid_0's l2: 0.168753\n",
      "[14]\tvalid_0's l1: 0.2563\tvalid_0's l2: 0.167836\n",
      "[15]\tvalid_0's l1: 0.255912\tvalid_0's l2: 0.167153\n",
      "[16]\tvalid_0's l1: 0.255329\tvalid_0's l2: 0.166171\n",
      "[17]\tvalid_0's l1: 0.25482\tvalid_0's l2: 0.165793\n",
      "[18]\tvalid_0's l1: 0.254657\tvalid_0's l2: 0.165969\n",
      "[19]\tvalid_0's l1: 0.254239\tvalid_0's l2: 0.165698\n",
      "[20]\tvalid_0's l1: 0.253864\tvalid_0's l2: 0.165315\n",
      "[21]\tvalid_0's l1: 0.253378\tvalid_0's l2: 0.164365\n",
      "[22]\tvalid_0's l1: 0.253384\tvalid_0's l2: 0.165601\n",
      "[23]\tvalid_0's l1: 0.253119\tvalid_0's l2: 0.165351\n",
      "[24]\tvalid_0's l1: 0.253059\tvalid_0's l2: 0.165249\n",
      "[25]\tvalid_0's l1: 0.252813\tvalid_0's l2: 0.164161\n",
      "[26]\tvalid_0's l1: 0.252664\tvalid_0's l2: 0.164131\n",
      "[27]\tvalid_0's l1: 0.252482\tvalid_0's l2: 0.164035\n",
      "[28]\tvalid_0's l1: 0.251621\tvalid_0's l2: 0.162362\n",
      "[29]\tvalid_0's l1: 0.251322\tvalid_0's l2: 0.161553\n",
      "[30]\tvalid_0's l1: 0.250906\tvalid_0's l2: 0.161344\n",
      "[31]\tvalid_0's l1: 0.25073\tvalid_0's l2: 0.161158\n",
      "[32]\tvalid_0's l1: 0.250079\tvalid_0's l2: 0.160038\n",
      "[33]\tvalid_0's l1: 0.249805\tvalid_0's l2: 0.160121\n",
      "[34]\tvalid_0's l1: 0.249479\tvalid_0's l2: 0.159591\n",
      "[35]\tvalid_0's l1: 0.249565\tvalid_0's l2: 0.159472\n",
      "[36]\tvalid_0's l1: 0.249672\tvalid_0's l2: 0.160704\n",
      "[37]\tvalid_0's l1: 0.249543\tvalid_0's l2: 0.160402\n",
      "[38]\tvalid_0's l1: 0.249361\tvalid_0's l2: 0.160525\n",
      "[39]\tvalid_0's l1: 0.249194\tvalid_0's l2: 0.160348\n",
      "[40]\tvalid_0's l1: 0.248987\tvalid_0's l2: 0.159692\n",
      "[41]\tvalid_0's l1: 0.248762\tvalid_0's l2: 0.158832\n",
      "[42]\tvalid_0's l1: 0.248568\tvalid_0's l2: 0.158687\n",
      "[43]\tvalid_0's l1: 0.248684\tvalid_0's l2: 0.158692\n",
      "[44]\tvalid_0's l1: 0.248658\tvalid_0's l2: 0.158669\n",
      "[45]\tvalid_0's l1: 0.248433\tvalid_0's l2: 0.15807\n",
      "[46]\tvalid_0's l1: 0.248157\tvalid_0's l2: 0.157513\n",
      "[47]\tvalid_0's l1: 0.248197\tvalid_0's l2: 0.157545\n",
      "[48]\tvalid_0's l1: 0.248204\tvalid_0's l2: 0.157735\n",
      "[49]\tvalid_0's l1: 0.248148\tvalid_0's l2: 0.157892\n",
      "[50]\tvalid_0's l1: 0.248074\tvalid_0's l2: 0.157937\n",
      "[51]\tvalid_0's l1: 0.24782\tvalid_0's l2: 0.157742\n",
      "[52]\tvalid_0's l1: 0.247724\tvalid_0's l2: 0.157594\n",
      "[53]\tvalid_0's l1: 0.247495\tvalid_0's l2: 0.157991\n",
      "[54]\tvalid_0's l1: 0.247304\tvalid_0's l2: 0.157955\n",
      "[55]\tvalid_0's l1: 0.247164\tvalid_0's l2: 0.158095\n",
      "[56]\tvalid_0's l1: 0.247056\tvalid_0's l2: 0.157764\n",
      "[57]\tvalid_0's l1: 0.246886\tvalid_0's l2: 0.157399\n",
      "[58]\tvalid_0's l1: 0.246761\tvalid_0's l2: 0.157056\n",
      "[59]\tvalid_0's l1: 0.246704\tvalid_0's l2: 0.157111\n",
      "[60]\tvalid_0's l1: 0.246656\tvalid_0's l2: 0.157069\n",
      "[61]\tvalid_0's l1: 0.246345\tvalid_0's l2: 0.156527\n",
      "[62]\tvalid_0's l1: 0.246304\tvalid_0's l2: 0.156763\n",
      "[63]\tvalid_0's l1: 0.2461\tvalid_0's l2: 0.15634\n",
      "[64]\tvalid_0's l1: 0.246102\tvalid_0's l2: 0.156534\n",
      "[65]\tvalid_0's l1: 0.246217\tvalid_0's l2: 0.156531\n",
      "[66]\tvalid_0's l1: 0.246188\tvalid_0's l2: 0.15631\n",
      "[67]\tvalid_0's l1: 0.246018\tvalid_0's l2: 0.156219\n",
      "[68]\tvalid_0's l1: 0.245883\tvalid_0's l2: 0.156366\n",
      "[69]\tvalid_0's l1: 0.245872\tvalid_0's l2: 0.156067\n",
      "[70]\tvalid_0's l1: 0.245754\tvalid_0's l2: 0.15599\n",
      "[71]\tvalid_0's l1: 0.245701\tvalid_0's l2: 0.155907\n",
      "[72]\tvalid_0's l1: 0.245588\tvalid_0's l2: 0.155823\n",
      "[73]\tvalid_0's l1: 0.245448\tvalid_0's l2: 0.15574\n",
      "[74]\tvalid_0's l1: 0.245544\tvalid_0's l2: 0.156043\n",
      "[75]\tvalid_0's l1: 0.245538\tvalid_0's l2: 0.156829\n",
      "[76]\tvalid_0's l1: 0.245497\tvalid_0's l2: 0.156582\n",
      "[77]\tvalid_0's l1: 0.245394\tvalid_0's l2: 0.156297\n",
      "[78]\tvalid_0's l1: 0.24536\tvalid_0's l2: 0.156425\n",
      "[79]\tvalid_0's l1: 0.24537\tvalid_0's l2: 0.156183\n",
      "[80]\tvalid_0's l1: 0.245142\tvalid_0's l2: 0.156024\n",
      "[81]\tvalid_0's l1: 0.244999\tvalid_0's l2: 0.155792\n",
      "[82]\tvalid_0's l1: 0.245002\tvalid_0's l2: 0.156328\n",
      "[83]\tvalid_0's l1: 0.24478\tvalid_0's l2: 0.156235\n",
      "[84]\tvalid_0's l1: 0.244614\tvalid_0's l2: 0.156227\n",
      "[85]\tvalid_0's l1: 0.24438\tvalid_0's l2: 0.155695\n",
      "[86]\tvalid_0's l1: 0.244182\tvalid_0's l2: 0.155429\n",
      "[87]\tvalid_0's l1: 0.244082\tvalid_0's l2: 0.155107\n",
      "[88]\tvalid_0's l1: 0.243844\tvalid_0's l2: 0.154581\n",
      "[89]\tvalid_0's l1: 0.243816\tvalid_0's l2: 0.154696\n",
      "[90]\tvalid_0's l1: 0.243853\tvalid_0's l2: 0.154882\n",
      "[91]\tvalid_0's l1: 0.24389\tvalid_0's l2: 0.155044\n",
      "[92]\tvalid_0's l1: 0.243849\tvalid_0's l2: 0.155148\n",
      "[93]\tvalid_0's l1: 0.243754\tvalid_0's l2: 0.154942\n",
      "[94]\tvalid_0's l1: 0.243662\tvalid_0's l2: 0.154783\n",
      "[95]\tvalid_0's l1: 0.243612\tvalid_0's l2: 0.154806\n",
      "[96]\tvalid_0's l1: 0.243545\tvalid_0's l2: 0.154467\n",
      "[97]\tvalid_0's l1: 0.243416\tvalid_0's l2: 0.154251\n",
      "[98]\tvalid_0's l1: 0.243127\tvalid_0's l2: 0.154437\n",
      "[99]\tvalid_0's l1: 0.24307\tvalid_0's l2: 0.154391\n",
      "[100]\tvalid_0's l1: 0.243038\tvalid_0's l2: 0.154358\n",
      "Feature Importances: {'ResearchDevelopment': 0, 'Depreciation': 0, 'RnDtoEarnings': 0, 'Q_Delta_PriceEoQ': 0, 'Q_Delta_GrossProfit': 0, 'Q_Delta_ResearchDevelopment': 0, 'Q_Delta_TotalOperatingExpenses': 0, 'Q_Delta_IncomeBeforeTax': 0, 'Q_Delta_IncomeTaxExpense': 0, 'Q_Delta_RepurchaseOfStock': 0, 'Q_Delta_Depreciation': 0, 'Q_Delta_IssuanceOfStock': 0, 'Q_Delta_ShortLongTermDebt': 0, 'Q_Delta_Volume': 0, 'YOY_Delta_PriceEoQ': 0, 'YOY_Delta_GrossProfit': 0, 'YOY_Delta_ResearchDevelopment': 0, 'YOY_Delta_TotalOperatingExpenses': 0, 'YOY_Delta_IncomeBeforeTax': 0, 'YOY_Delta_IncomeTaxExpense': 0, 'YOY_Delta_RepurchaseOfStock': 0, 'YOY_Delta_Depreciation': 0, 'YOY_Delta_IssuanceOfStock': 0, 'YOY_Delta_ShortLongTermDebt': 0, 'YOY_Delta_Volume': 0, 'IncomeTaxExpense': 2, 'ShortLongTermDebt': 2, 'Sector': 2, 'TotalOperatingExpenses': 3, 'IssuanceOfStock': 3, 'Q_Delta_DividendsPaid': 3, 'RepurchaseOfStock': 5, 'Volume': 5, 'GrossProfit': 6, 'DividendsPaid': 7, 'PriceEoQ': 8, 'IncomeBeforeTax': 8, 'YOY_Delta_DividendsPaid': 9, 'Q_Delta_TotalAssets': 11, 'Q_Delta_NetIncome': 12, 'Q_Delta_Earnings': 12, 'Q_Delta_TotalLiab': 14, 'YOY_Delta_Earnings': 15, 'Q_Delta_TotalRevenue': 17, 'Q_Delta_Ebit': 18, 'Q_Delta_LongTermDebt': 18, 'AvgPriceToEarningsRatio': 20, 'Q_Delta_OperatingIncome': 20, 'Earnings': 25, 'YOY_Delta_Cash': 26, 'NetIncome': 27, 'Q_Delta_PriceAvg': 28, 'YOY_Delta_PriceAvg': 28, 'YOY_Delta_NetIncome': 28, 'Cash': 30, 'DebtToEquityRatio': 30, 'TotalRevenue': 33, 'YOY_Delta_Ebit': 33, 'YOY_Delta_OperatingIncome': 33, 'Q_Delta_CommonStock': 34, 'YOY_Delta_LongTermDebt': 35, 'OperatingIncome': 37, 'TotalAssets': 37, 'YOY_Delta_TotalAssets': 37, 'Quarter': 38, 'TotalLiab': 39, 'YOY_Delta_TotalLiab': 39, 'Q_Delta_Cash': 40, 'LongTermDebt': 41, 'YOY_Delta_CommonStock': 43, 'AssetsToLiabilitiesRatio': 44, 'Q_Delta_TotalStockholderEquity': 45, 'CommonStock': 46, 'YOY_Delta_TotalStockholderEquity': 46, 'YOY_Delta_TotalRevenue': 49, 'Q_Delta_PriceHigh': 50, 'ProfitMargin': 53, 'TotalStockholderEquity': 61, 'ReturnOnEquity': 62, 'YOY_Delta_PriceHigh': 62, 'Volatility': 63, 'YOY_Delta_PriceLow': 74, 'PriceLow': 78, 'Ebit': 81, 'PriceHigh': 93, 'PriceAvg': 98, 'Q_Delta_PriceAvg_vs_^DJI': 101, 'Q_Delta_PriceLow': 114, 'Volatility_vs_^DJI': 115, 'YOY_Delta_PriceAvg_vs_^DJI': 155, 'PriceToBookRatio': 189, 'Industry': 360}\n",
      "Best Score: defaultdict(<class 'collections.OrderedDict'>, {'valid_0': OrderedDict([('l1', 0.2430384671545674), ('l2', 0.1543578062916122)])})\n"
     ]
    }
   ],
   "source": [
    "from sklearn.metrics import mean_squared_error\n",
    "\n",
    "X_train, y_train, X_test, y_test = Splitter().transform(X_transformed)\n",
    "\n",
    "\n",
    "model = LGBMRegressor(boosting_type='gbdt',\n",
    "                      num_leaves=hyperparams.NUM_LEAVES,\n",
    "                      max_depth=hyperparams.MAX_DEPTH,\n",
    "                      learning_rate=hyperparams.LEARNING_RATE,\n",
    "                      n_estimators=hyperparams.N_ESTIMATORS,\n",
    "                      random_state=hyperparams.RANDOM_SEED)\n",
    "\n",
    "model.fit(X_train, y_train,\n",
    "        eval_set=[(X_test, y_test)],\n",
    "        eval_metric='l1')\n",
    "\n",
    "# y_pred = model.predict(X_test)\n",
    "\n",
    "features = {feature: importance for feature, importance in sorted(zip(X_transformed.columns, model.feature_importances_), key=lambda i: i[1])}\n",
    "print(f\"Feature Importances: {features}\")\n",
    "print(f\"Best Score: {model.best_score_}\")\n",
    "# print('The rmse of prediction is:', mean_squared_error(y_test, y_pred) ** 0.5)"
   ]
  },
  {
   "cell_type": "code",
   "execution_count": null,
   "metadata": {},
   "outputs": [],
   "source": []
  },
  {
   "cell_type": "code",
   "execution_count": 54,
   "metadata": {},
   "outputs": [],
   "source": [
    "y_pred = model.predict(X_test)"
   ]
  },
  {
   "cell_type": "code",
   "execution_count": 55,
   "metadata": {},
   "outputs": [
    {
     "data": {
      "text/plain": [
       "{'Mean Absolute Error': 0.2430384672649855,\n",
       " 'Mean Squared Error': 0.15435780806762875,\n",
       " 'Root Mean Squared Error': 0.39288396259917346,\n",
       " 'Absolute Percentage Error': TickerSymbol  Quarter  Year\n",
       " PETS          4        2017    40.743757\n",
       " GLW           2        2019    11.823908\n",
       " ALL           4        2015     5.958519\n",
       " TIF           2        2011    10.098179\n",
       " JNPR          1        2014    26.566640\n",
       "                                  ...    \n",
       " ARW           2        2016    12.259128\n",
       " ADM           2        2018    16.996599\n",
       " RRD           1        2009    65.765496\n",
       " FDX           3        2011     0.719094\n",
       " ADBE          4        2009    17.119110\n",
       " Name: PredictedPrice, Length: 9791, dtype: float64}"
      ]
     },
     "execution_count": 55,
     "metadata": {},
     "output_type": "execute_result"
    }
   ],
   "source": [
    "from sklearn import metrics\n",
    "metrics_dict = {\n",
    "        'Mean Absolute Error': metrics.mean_absolute_error(y_test, y_pred),\n",
    "        'Mean Squared Error': metrics.mean_squared_error(y_test, y_pred),\n",
    "        'Root Mean Squared Error': np.sqrt(metrics.mean_squared_error(y_test, y_pred)),\n",
    "        'Absolute Percentage Error': abs(y_pred - y_test) * 100.\n",
    "    }\n",
    "\n",
    "metrics_dict"
   ]
  },
  {
   "cell_type": "code",
   "execution_count": null,
   "metadata": {},
   "outputs": [],
   "source": []
  },
  {
   "cell_type": "code",
   "execution_count": null,
   "metadata": {},
   "outputs": [],
   "source": []
  }
 ],
 "metadata": {
  "kernelspec": {
   "display_name": "Python 3",
   "language": "python",
   "name": "python3"
  },
  "language_info": {
   "codemirror_mode": {
    "name": "ipython",
    "version": 3
   },
   "file_extension": ".py",
   "mimetype": "text/x-python",
   "name": "python",
   "nbconvert_exporter": "python",
   "pygments_lexer": "ipython3",
   "version": "3.7.0"
  }
 },
 "nbformat": 4,
 "nbformat_minor": 4
}
