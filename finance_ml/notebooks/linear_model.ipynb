{
 "cells": [
  {
   "cell_type": "code",
   "execution_count": 1115,
   "metadata": {},
   "outputs": [],
   "source": [
    "import numpy as np\n",
    "import pandas as pd\n",
    "import sqlite3\n",
    "import json\n",
    "from datetime import datetime, timedelta, date\n",
    "from collections import namedtuple\n",
    "from typing import Tuple\n",
    "from sklearn.linear_model import LinearRegression\n",
    "from sklearn import metrics\n",
    "from sklearn.preprocessing import StandardScaler\n",
    "from scipy import stats\n",
    "import matplotlib.pyplot as plt\n",
    "from sklearn.base import BaseEstimator, TransformerMixin\n",
    "from sklearn.pipeline import Pipeline\n",
    "from typing import List, Tuple, Dict\n",
    "from sklearn.compose import ColumnTransformer\n",
    "import warnings\n",
    "from xgboost import XGBRegressor\n",
    "\n",
    "warnings.simplefilter(action='ignore', category=FutureWarning)\n",
    "\n",
    "pd.set_option('display.max_columns', None)"
   ]
  },
  {
   "cell_type": "code",
   "execution_count": 1116,
   "metadata": {},
   "outputs": [],
   "source": [
    "DB_PATH = '/Users/ezras/projects/personal/finance_ml/data/quarterly_financial_data.db'\n",
    "INFO_CSV_PATH = '/Users/ezras/projects/personal/finance_ml/data/stock_general_info.csv'\n",
    "TABLE_NAME = 'yahoo_financial_data'\n",
    "STOCKPUP_TABLE_NAME = 'stockpup_data'\n",
    "\n",
    "\n",
    "DELTA_PREFIX = 'Delta_'\n",
    "VS_MKT_IDX = '_vs_'\n",
    "AVG_REC_SCORE_PREFIX = 'AvgRecScore_'\n",
    "\n",
    "MISSING_SECTOR = 'MissingSector'\n",
    "MISSING_INDUSTRY = 'MissingIndustry'\n",
    "\n",
    "MONTH_TO_QUARTER = {\n",
    "    1: 4,\n",
    "    2: 1,\n",
    "    3: 1,\n",
    "    4: 1,\n",
    "    5: 2,\n",
    "    6: 2,\n",
    "    7: 2,\n",
    "    8: 3,\n",
    "    9: 3,\n",
    "    10: 3,\n",
    "    11: 4,\n",
    "    12: 4\n",
    "}\n",
    "    \n",
    "\n",
    "class StockPupColumns:\n",
    "    \"\"\"\n",
    "    Our dataset comes from over 20 years of 10-Q and 10-K filings made by public companies\n",
    "     with the U.S. Securities and Exchange Commission. We extract data from both text and\n",
    "     XBRL filings, fix reporting mistakes, and normalize the data into quarterly time series\n",
    "     of final restated values.\n",
    "    \"\"\"\n",
    "    # Date Quarter Ends\n",
    "    QUARTER_END = 'QuarterEnd'\n",
    "    # The total number of common shares outstanding at the end of a given quarter, including all\n",
    "    # classes of common stock.\n",
    "    SHARES = 'Shares'\n",
    "    # The number of shares the company had at the end of a given quarter, adjusted for splits to\n",
    "    # be comparable to today's shares.\n",
    "    SHARES_SPLIT_ADJUSTED = 'SharesSplitAdjusted'\n",
    "    # If an investor started with 1 share of stock at the end of a given quarter, the split factor\n",
    "    # for that quarter indicates how many shares the investor would own today as a result of\n",
    "    # subsequent stock splits.\n",
    "    SPLIT_FACTOR = 'SplitFactor'\n",
    "    # Total assets at the end of a quarter.\n",
    "    ASSETS = 'Assets'\n",
    "    # Current assets at the end of a quarter.\n",
    "    CURRENT_ASSETS = 'CurrentAssets'\n",
    "    # Total liabilities at the end of a quarter.\n",
    "    LIABILITIES = 'Liabilities'\n",
    "    # Current liabilities at the end of a quarter.\n",
    "    CURRENT_LIABILITIES = 'CurrentLiabilities'\n",
    "    # Total shareholders' equity at the end of a quarter, including both common and preferred\n",
    "    # stockholders.\n",
    "    SHAREHOLDER_EQUITY = 'ShareholdersEquity'\n",
    "    # Non-controlling or minority interest, if any, excluded from Shareholders equity.\n",
    "    NON_CONTROLLING_INTEREST = 'NonControllingInterest'\n",
    "    # Preferred equity, if any, included in Shareholders equity.\n",
    "    PREFERRED_EQUITY = 'PreferredEquity'\n",
    "    # Total Goodwill and all other Intangible assets, if any.\n",
    "    GOODWILL_AND_INTANGIBLES = 'GoodwillIntangibles'\n",
    "    # All long-term debt including capital lease obligations.\n",
    "    LONG_TERM_DEBT = 'LongTermDebt'\n",
    "    # Total revenue for a given quarter.\n",
    "    REVENUE = 'Revenue'\n",
    "    # Earnings or Net Income for a given quarter.\n",
    "    EARNINGS = 'Earnings'\n",
    "    # Earnings available for common stockholders - Net income minus earnings that must be\n",
    "    # distributed to preferred shareholders. May be omitted when not reported by the company.\n",
    "    EARNINGS_AVAILABLE_FOR_COMMON_STOCKHOLDERS = 'EarningsAvailableForCommonStockholders'\n",
    "    # Basic earnings per share for a given quarter.\n",
    "    EPS_BASIC = 'EPS_basic'\n",
    "    # Diluted earnings per share.\n",
    "    EPS_DILUTED = 'EPS_diluted'\n",
    "    # Common stock dividends paid during a quarter per share, including all regular and special\n",
    "    # dividends and distributions to common shareholders.\n",
    "    DIVIDEND_PER_SHARE = 'DividendPerShare'\n",
    "    # Cash produced by operating activities during a given quarter, including Continuing and\n",
    "    # Discontinued operations.\n",
    "    CASH_FROM_OPERATING_ACTIVITES = 'CashFromOperatingActivities'\n",
    "    # Cash produced by investing activities during a given quarter, including Continuing and\n",
    "    # Discontinued operations.\n",
    "    CASH_FROM_INVESTING_ACTIVITIES = 'CashFromInvestingActivities'\n",
    "    # Cash produced by financing activities during a given quarter, including Continuing and\n",
    "    # Discontinued operations.\n",
    "    CASH_FROM_FINANCING_ACTIVITES = 'CashFromFinancingActivities'\n",
    "    # Change in cash and cash equivalents during a given quarter, including Effect of Exchange\n",
    "    # Rate Movements and Other Cash Change Adjustments, if any.\n",
    "    CASH_CHANGE_DURING_PERIOD = 'CashChangeDuringPeriod'\n",
    "    # Cash and cash equivalents at the end of a quarter, including Continuing and\n",
    "    # Discontinued operations.\n",
    "    CASH_AT_END_OF_PERIOD = 'CashAtEndOfPeriod'\n",
    "    # Capital Expenditures are the cash outflows for long-term productive assets, net of cash\n",
    "    # from disposals of capital assets.\n",
    "    CAPITAL_EXPENDITURES = 'CapitalExpenditures'\n",
    "    # The medium price per share of the company common stock during a given quarter. The prices\n",
    "    # are as reported, and are not adjusted for subsequent dividends.\n",
    "    PRICE = 'Price'  # Average price during quarter\n",
    "    # The highest price per share of the company common stock during a given quarter.\n",
    "    PRICE_HIGH = 'PriceHigh'\n",
    "    # The lowest price of the company common stock during a quarter.\n",
    "    PRICE_LOW = 'PriceLow'\n",
    "    # Return on equity is the ratio of Earnings (available to common stockholders)\n",
    "    # TTM (over the Trailing Twelve Months) to TTM average common shareholders' equity.\n",
    "    ROE = 'ROE'\n",
    "    # Return on assets is the ratio of total Earnings TTM to TTM average Assets.\n",
    "    ROA = 'ROA'\n",
    "    # Common stockholders' equity per share, also known as BVPS.\n",
    "    BOOK_VALUE_OF_EQUITY_PER_SHARE = 'BookValueOfEquityPerShare'\n",
    "    # The ratio of Price to Book value of equity per share as of the previous quarter.\n",
    "    P_B_RATIO = 'P_B_ratio'\n",
    "    # The ratio of Price to EPS diluted TTM as of the previous quarter.\n",
    "    P_E_RATIO = 'P_E_ratio'\n",
    "    # The aggregate amount of dividends paid per split-adjusted share of common stock from the\n",
    "    # first available reporting quarter until a given quarter.\n",
    "    CUM_DIVIDENDS_PER_SHARE = 'CumulativeDividendsPerShare'\n",
    "    # The ratio of Dividends TTM to Earnings (available to common stockholders) TTM.\n",
    "    DIVIDEND_PAYOUT_RATIO = 'DividendPayoutRatio'\n",
    "    # The ratio of Long-term debt to common shareholders' equity (Shareholders equity minus\n",
    "    # Preferred equity).\n",
    "    LONG_TERM_DEBT_TO_EQUITY_RATIO = 'LongTermDebtToEquityRatio'\n",
    "    # The ratio of common shareholders' equity (Shareholders equity minus Preferred equity) to\n",
    "    # Assets.\n",
    "    EQUITY_TO_ASSETS_RATIO = 'EquityToAssetsRatio'\n",
    "    # The ratio of Earnings (available for common stockholders) TTM to Revenue TTM.\n",
    "    NET_MARGIN = 'NetMargin'\n",
    "    # The ratio of Revenue TTM to TTM average Assets.\n",
    "    ASSET_TURNOVER = 'AssetTurnover'\n",
    "    # Cash from operating activities minus the Capital Expenditures for a quarter.\n",
    "    FREE_CASH_FLOW_PER_SHARE = 'FreeCashFlowPerShare'\n",
    "    # The ratio of Current assets to Current liabilities.\n",
    "    CURRENT_RATIO = 'CurrentRatio'\n",
    "    \n",
    "    @staticmethod\n",
    "    def columns():\n",
    "        return [getattr(StockPupColumns, col) for col in dir(StockPupColumns) if col[0] != '_' and col != 'columns']\n",
    "\n",
    "class QuarterlyColumns:\n",
    "    TICKER_SYMBOL = 'TickerSymbol'\n",
    "    QUARTER = 'Quarter'\n",
    "    YEAR = 'Year'\n",
    "    PRICE_AVG = 'PriceAvg'\n",
    "    PRICE_HI = 'PriceHigh'\n",
    "    PRICE_LO = 'PriceLow'\n",
    "    PRICE_AT_END_OF_QUARTER = 'PriceEoQ'\n",
    "    AVG_RECOMMENDATIONS = 'AvgRecommendations'\n",
    "    AVG_RECOMMENDATION_SCORE = 'AvgRecommendationScore'\n",
    "    SPLIT = 'Split'\n",
    "    EBIT = 'Ebit'\n",
    "    PROFIT = 'GrossProfit'\n",
    "    REVENUE = 'TotalRevenue'\n",
    "    RND = 'ResearchDevelopment'\n",
    "    OPERATING_EXPENSES = 'TotalOperatingExpenses'\n",
    "    INCOME_PRETAX = 'IncomeBeforeTax'\n",
    "    INCOME_TAX = 'IncomeTaxExpense'\n",
    "    OPERATING_INCOME = 'OperatingIncome'\n",
    "    NET_INCOME = 'NetIncome'\n",
    "    DIVIDENDS = 'DividendsPaid'\n",
    "    STOCK_REPURCHASED = 'RepurchaseOfStock'\n",
    "    STOCK_ISSUED = 'IssuanceOfStock'\n",
    "    DEPRECIATION = 'Depreciation'\n",
    "    NET_BORROWINGS = 'NetBorrowings'\n",
    "    INVESTMENTS = 'Investments'\n",
    "    CASH = 'Cash'\n",
    "    COMMON_STOCK = 'CommonStock'\n",
    "    ASSETS = 'TotalAssets'\n",
    "    LIABILITIES = 'TotalLiab'\n",
    "    DEBT_LONG = 'LongTermDebt'\n",
    "    DEBT_SHORT = 'ShortLongTermDebt'\n",
    "    DATE = 'Date'\n",
    "    VOLUME = 'Volume'\n",
    "    EARNINGS = 'Earnings'\n",
    "    STOCKHOLDER_EQUITY = 'TotalStockholderEquity'\n",
    "    VOLATILITY = 'Volatility'\n",
    "    SECTOR = 'Sector'\n",
    "    INDUSTRY = 'Industry'\n",
    "    MARKET_CAP = 'MarketCap'\n",
    "    AGE_OF_DATA = 'AgeOfData'\n",
    "    WORKING_CAPITAL_RATIO = 'AssetsToLiabilitiesRatio'\n",
    "    AVG_PE_RATIO = 'AvgPriceToEarningsRatio'\n",
    "    DEBT_EQUITY_RATIO = 'DebtToEquityRatio'\n",
    "    ROE = 'ReturnOnEquity'\n",
    "    PRICE_BOOK_RATIO = 'PriceToBookRatio'\n",
    "    FCF = 'FreeCashFlow'\n",
    "    PROFIT_MARGIN = 'ProfitMargin'\n",
    "    \n",
    "    @staticmethod\n",
    "    def columns():\n",
    "        return [getattr(QuarterlyColumns, col) for col in dir(QuarterlyColumns) if col[0] != '_' and col != 'columns']\n",
    "\n",
    "INDEX_COLUMNS = [QuarterlyColumns.TICKER_SYMBOL, \n",
    "                 QuarterlyColumns.QUARTER, \n",
    "                 QuarterlyColumns.YEAR]\n",
    "    \n",
    "QuarterlyIndex = namedtuple('QuarterlyIndex', INDEX_COLUMNS)\n",
    "TICKER_SYMBOL, QUARTER, YEAR = 0, 1, 2\n",
    "\n",
    "PRICE_ONLY_DELTA_COLUMNS = [\n",
    "    QuarterlyColumns.PRICE_AVG,\n",
    "    QuarterlyColumns.VOLATILITY\n",
    "]\n",
    "\n",
    "DELTA_COLUMNS = [\n",
    "    QuarterlyColumns.PRICE_AVG,\n",
    "    QuarterlyColumns.CASH,\n",
    "    QuarterlyColumns.EARNINGS,\n",
    "    QuarterlyColumns.AVG_PE_RATIO,\n",
    "    QuarterlyColumns.DEBT_EQUITY_RATIO,\n",
    "    QuarterlyColumns.ROE,\n",
    "    QuarterlyColumns.WORKING_CAPITAL_RATIO,\n",
    "    QuarterlyColumns.PRICE_BOOK_RATIO,\n",
    "    QuarterlyColumns.PROFIT_MARGIN,\n",
    "    QuarterlyColumns.OPERATING_INCOME\n",
    "]\n",
    "\n",
    "CATEGORICAL_COLUMNS = [\n",
    "    QuarterlyColumns.QUARTER,\n",
    "    QuarterlyColumns.SECTOR,\n",
    "#     QuarterlyColumns.INDUSTRY\n",
    "]\n",
    "\n",
    "VS_MARKET_INDICES_COLUMNS = [\n",
    "    f'{DELTA_PREFIX}{QuarterlyColumns.PRICE_AVG}',\n",
    "    QuarterlyColumns.VOLATILITY,\n",
    "]\n",
    "\n",
    "MARKET_INDICES = ['^DJI']  #, 'VTSAX', '^IXIC', '^GSPC', '^RUT', '^NYA']\n",
    "\n",
    "\n",
    "FORMULAE = {\n",
    "    QuarterlyColumns.VOLATILITY: lambda row: (\n",
    "        row[QuarterlyColumns.PRICE_HI] - row[QuarterlyColumns.PRICE_LO]) / row[QuarterlyColumns.PRICE_AVG],\n",
    "\n",
    "    QuarterlyColumns.WORKING_CAPITAL_RATIO: lambda row: (\n",
    "        row[QuarterlyColumns.ASSETS] / row[QuarterlyColumns.LIABILITIES]),\n",
    "\n",
    "    QuarterlyColumns.AGE_OF_DATA: lambda row: (\n",
    "        datetime.now().date() - datetime.strptime(row[QuarterlyColumns.DATE], '%Y-%m-%d').date()).days/90,\n",
    "\n",
    "    QuarterlyColumns.AVG_PE_RATIO: lambda row: (\n",
    "        row[QuarterlyColumns.PRICE_AVG] / row[QuarterlyColumns.EARNINGS]),\n",
    "\n",
    "    QuarterlyColumns.DEBT_EQUITY_RATIO: lambda row: (\n",
    "        row[QuarterlyColumns.DEBT_LONG] + row[QuarterlyColumns.DEBT_SHORT]) / row[QuarterlyColumns.STOCKHOLDER_EQUITY],\n",
    "\n",
    "    QuarterlyColumns.ROE: lambda row: (\n",
    "        row[QuarterlyColumns.EARNINGS] - row[QuarterlyColumns.DIVIDENDS]) / row[QuarterlyColumns.STOCKHOLDER_EQUITY],\n",
    "\n",
    "    QuarterlyColumns.PRICE_BOOK_RATIO: lambda row: (\n",
    "        row[QuarterlyColumns.ASSETS] - row[QuarterlyColumns.LIABILITIES]) / row[QuarterlyColumns.MARKET_CAP],\n",
    "\n",
    "    QuarterlyColumns.PROFIT_MARGIN: lambda row: (\n",
    "        row[QuarterlyColumns.NET_INCOME] / row[QuarterlyColumns.REVENUE])\n",
    "}\n",
    "\n",
    "TARGET_COL_BASIS = f'{DELTA_PREFIX}{QuarterlyColumns.PRICE_AVG}'\n",
    "TARGET_COLUMN = f'NextQuarter_{TARGET_COL_BASIS}'\n",
    "\n",
    "FEATURE_COLUMNS = [\n",
    "    QuarterlyColumns.AGE_OF_DATA,\n",
    "    QuarterlyColumns.VOLATILITY,\n",
    "    QuarterlyColumns.AVG_RECOMMENDATION_SCORE,\n",
    "    QuarterlyColumns.AVG_PE_RATIO,\n",
    "    QuarterlyColumns.DEBT_EQUITY_RATIO,\n",
    "    QuarterlyColumns.ROE,\n",
    "    QuarterlyColumns.WORKING_CAPITAL_RATIO,\n",
    "    QuarterlyColumns.PRICE_BOOK_RATIO,\n",
    "    QuarterlyColumns.PROFIT_MARGIN\n",
    "] + [\n",
    "    f'{DELTA_PREFIX}{col}' for col in DELTA_COLUMNS\n",
    "] + [\n",
    "    f'{col}{VS_MKT_IDX}{mkt_idx}' for mkt_idx in MARKET_INDICES for col in VS_MARKET_INDICES_COLUMNS\n",
    "]"
   ]
  },
  {
   "cell_type": "code",
   "execution_count": 1117,
   "metadata": {},
   "outputs": [
    {
     "name": "stderr",
     "output_type": "stream",
     "text": [
      "/Users/ezras/.pyenv/versions/3.7.0/lib/python3.7/site-packages/ipykernel_launcher.py:14: SettingWithCopyWarning: \n",
      "A value is trying to be set on a copy of a slice from a DataFrame\n",
      "\n",
      "See the caveats in the documentation: https://pandas.pydata.org/pandas-docs/stable/user_guide/indexing.html#returning-a-view-versus-a-copy\n",
      "  \n"
     ]
    }
   ],
   "source": [
    "db_conn = sqlite3.connect(DB_PATH)\n",
    "\n",
    "quarterly_df = pd.read_sql_query(f'SELECT * FROM {TABLE_NAME}', db_conn)\n",
    "db_conn.close()\n",
    "\n",
    "# This needs to be above the filters below otherwise we'll drop quarterly data! (indices have no revenue)\n",
    "market_index_df = quarterly_df[quarterly_df[QuarterlyColumns.TICKER_SYMBOL].isin(MARKET_INDICES)]\n",
    "\n",
    "market_index_df.dropna(subset=[QuarterlyColumns.DATE,\n",
    "                               QuarterlyColumns.PRICE_AVG,\n",
    "                               QuarterlyColumns.PRICE_HI,\n",
    "                               QuarterlyColumns.PRICE_LO,\n",
    "                               ],\n",
    "                       inplace=True)\n",
    "\n",
    "quarterly_df.dropna(subset=[QuarterlyColumns.DATE,\n",
    "                            QuarterlyColumns.REVENUE,\n",
    "                            QuarterlyColumns.PRICE_AVG,\n",
    "                            QuarterlyColumns.PRICE_HI,\n",
    "                            QuarterlyColumns.PRICE_LO,\n",
    "                            QuarterlyColumns.EARNINGS,\n",
    "                            QuarterlyColumns.MARKET_CAP],\n",
    "                    inplace=True)\n",
    "quarterly_df = quarterly_df[((quarterly_df[QuarterlyColumns.REVENUE] != 0) &\n",
    "                             (quarterly_df[QuarterlyColumns.EARNINGS] != 0) &\n",
    "                             (quarterly_df[QuarterlyColumns.MARKET_CAP] != 0) &\n",
    "                             (~quarterly_df[QuarterlyColumns.TICKER_SYMBOL].isin(MARKET_INDICES)))]\n",
    "\n",
    "quarterly_df.set_index([QuarterlyColumns.TICKER_SYMBOL,\n",
    "                        QuarterlyColumns.QUARTER,\n",
    "                        QuarterlyColumns.YEAR],\n",
    "                       inplace=True)\n",
    "quarterly_df.sort_index(inplace=True)"
   ]
  },
  {
   "cell_type": "code",
   "execution_count": 1118,
   "metadata": {},
   "outputs": [
    {
     "name": "stderr",
     "output_type": "stream",
     "text": [
      "/Users/ezras/.pyenv/versions/3.7.0/lib/python3.7/site-packages/ipykernel_launcher.py:29: SettingWithCopyWarning: \n",
      "A value is trying to be set on a copy of a slice from a DataFrame.\n",
      "Try using .loc[row_indexer,col_indexer] = value instead\n",
      "\n",
      "See the caveats in the documentation: https://pandas.pydata.org/pandas-docs/stable/user_guide/indexing.html#returning-a-view-versus-a-copy\n",
      "/Users/ezras/.pyenv/versions/3.7.0/lib/python3.7/site-packages/ipykernel_launcher.py:32: SettingWithCopyWarning: \n",
      "A value is trying to be set on a copy of a slice from a DataFrame.\n",
      "Try using .loc[row_indexer,col_indexer] = value instead\n",
      "\n",
      "See the caveats in the documentation: https://pandas.pydata.org/pandas-docs/stable/user_guide/indexing.html#returning-a-view-versus-a-copy\n",
      "/Users/ezras/.pyenv/versions/3.7.0/lib/python3.7/site-packages/ipykernel_launcher.py:33: SettingWithCopyWarning: \n",
      "A value is trying to be set on a copy of a slice from a DataFrame.\n",
      "Try using .loc[row_indexer,col_indexer] = value instead\n",
      "\n",
      "See the caveats in the documentation: https://pandas.pydata.org/pandas-docs/stable/user_guide/indexing.html#returning-a-view-versus-a-copy\n",
      "/Users/ezras/.pyenv/versions/3.7.0/lib/python3.7/site-packages/ipykernel_launcher.py:35: SettingWithCopyWarning: \n",
      "A value is trying to be set on a copy of a slice from a DataFrame.\n",
      "Try using .loc[row_indexer,col_indexer] = value instead\n",
      "\n",
      "See the caveats in the documentation: https://pandas.pydata.org/pandas-docs/stable/user_guide/indexing.html#returning-a-view-versus-a-copy\n",
      "/Users/ezras/.pyenv/versions/3.7.0/lib/python3.7/site-packages/ipykernel_launcher.py:36: SettingWithCopyWarning: \n",
      "A value is trying to be set on a copy of a slice from a DataFrame.\n",
      "Try using .loc[row_indexer,col_indexer] = value instead\n",
      "\n",
      "See the caveats in the documentation: https://pandas.pydata.org/pandas-docs/stable/user_guide/indexing.html#returning-a-view-versus-a-copy\n",
      "/Users/ezras/.pyenv/versions/3.7.0/lib/python3.7/site-packages/ipykernel_launcher.py:38: SettingWithCopyWarning: \n",
      "A value is trying to be set on a copy of a slice from a DataFrame.\n",
      "Try using .loc[row_indexer,col_indexer] = value instead\n",
      "\n",
      "See the caveats in the documentation: https://pandas.pydata.org/pandas-docs/stable/user_guide/indexing.html#returning-a-view-versus-a-copy\n",
      "/Users/ezras/.pyenv/versions/3.7.0/lib/python3.7/site-packages/ipykernel_launcher.py:39: SettingWithCopyWarning: \n",
      "A value is trying to be set on a copy of a slice from a DataFrame.\n",
      "Try using .loc[row_indexer,col_indexer] = value instead\n",
      "\n",
      "See the caveats in the documentation: https://pandas.pydata.org/pandas-docs/stable/user_guide/indexing.html#returning-a-view-versus-a-copy\n",
      "/Users/ezras/.pyenv/versions/3.7.0/lib/python3.7/site-packages/ipykernel_launcher.py:40: SettingWithCopyWarning: \n",
      "A value is trying to be set on a copy of a slice from a DataFrame.\n",
      "Try using .loc[row_indexer,col_indexer] = value instead\n",
      "\n",
      "See the caveats in the documentation: https://pandas.pydata.org/pandas-docs/stable/user_guide/indexing.html#returning-a-view-versus-a-copy\n",
      "/Users/ezras/.pyenv/versions/3.7.0/lib/python3.7/site-packages/pandas/core/frame.py:4130: SettingWithCopyWarning: \n",
      "A value is trying to be set on a copy of a slice from a DataFrame\n",
      "\n",
      "See the caveats in the documentation: https://pandas.pydata.org/pandas-docs/stable/user_guide/indexing.html#returning-a-view-versus-a-copy\n",
      "  errors=errors,\n",
      "/Users/ezras/.pyenv/versions/3.7.0/lib/python3.7/site-packages/ipykernel_launcher.py:58: SettingWithCopyWarning: \n",
      "A value is trying to be set on a copy of a slice from a DataFrame.\n",
      "Try using .loc[row_indexer,col_indexer] = value instead\n",
      "\n",
      "See the caveats in the documentation: https://pandas.pydata.org/pandas-docs/stable/user_guide/indexing.html#returning-a-view-versus-a-copy\n",
      "/Users/ezras/.pyenv/versions/3.7.0/lib/python3.7/site-packages/ipykernel_launcher.py:59: SettingWithCopyWarning: \n",
      "A value is trying to be set on a copy of a slice from a DataFrame.\n",
      "Try using .loc[row_indexer,col_indexer] = value instead\n",
      "\n",
      "See the caveats in the documentation: https://pandas.pydata.org/pandas-docs/stable/user_guide/indexing.html#returning-a-view-versus-a-copy\n"
     ]
    }
   ],
   "source": [
    "db_conn = sqlite3.connect(DB_PATH)\n",
    "\n",
    "stockpup_df = pd.read_sql_query(f'SELECT * FROM {STOCKPUP_TABLE_NAME}', db_conn)\n",
    "db_conn.close()\n",
    "\n",
    "\n",
    "def _date_to_index(dt: datetime.date):\n",
    "    # shift date into the next month if it's at the end of a month\n",
    "    new_date = dt + timedelta(days=15) if dt.day > 20 else dt\n",
    "\n",
    "    q = MONTH_TO_QUARTER[new_date.month]\n",
    "\n",
    "    year = new_date.year - 1 if new_date.month == 1 else new_date.year\n",
    "    return QuarterlyIndex('', q, year)\n",
    "\n",
    "\n",
    "def process_stockpup_df(df):\n",
    "    df.dropna(subset=[StockPupColumns.SHARES, \n",
    "                      StockPupColumns.SHARES_SPLIT_ADJUSTED,\n",
    "                      StockPupColumns.FREE_CASH_FLOW_PER_SHARE,\n",
    "                      StockPupColumns.EARNINGS,\n",
    "                      StockPupColumns.SHAREHOLDER_EQUITY,\n",
    "                      StockPupColumns.LIABILITIES,\n",
    "                      StockPupColumns.PRICE],\n",
    "              inplace=True)\n",
    "    df = df[((df[StockPupColumns.REVENUE] != 0) &\n",
    "             (df[StockPupColumns.EARNINGS] != 0))]\n",
    "    \n",
    "    df[StockPupColumns.QUARTER_END] = pd.to_datetime(df[StockPupColumns.QUARTER_END])\n",
    "\n",
    "    df[QuarterlyColumns.QUARTER] = df[StockPupColumns.QUARTER_END].apply(\n",
    "        lambda r: _date_to_index(r)[QUARTER])\n",
    "    df[QuarterlyColumns.YEAR] = df[StockPupColumns.QUARTER_END].apply(lambda r: _date_to_index(r)[YEAR])\n",
    "    df[QuarterlyColumns.DIVIDENDS] = df[StockPupColumns.DIVIDEND_PER_SHARE] * df[\n",
    "        StockPupColumns.SHARES]\n",
    "    df[QuarterlyColumns.DATE] = df[StockPupColumns.QUARTER_END].apply(lambda r: str(r.date()))\n",
    "    df[QuarterlyColumns.OPERATING_INCOME] = df[StockPupColumns.FREE_CASH_FLOW_PER_SHARE] * df[\n",
    "        StockPupColumns.SHARES]\n",
    "    df[QuarterlyColumns.MARKET_CAP] = df[StockPupColumns.SHARES_SPLIT_ADJUSTED] * df[StockPupColumns.PRICE]\n",
    "    df[QuarterlyColumns.DEBT_SHORT] = 0  # I think short long term debt is figured into long term debt\n",
    "#     df[QuarterlyColumns.EBIT] = ???  # TODO: Compute EBIT?\n",
    "\n",
    "    df.rename(columns={\n",
    "        StockPupColumns.ASSETS: QuarterlyColumns.ASSETS,\n",
    "        StockPupColumns.REVENUE: QuarterlyColumns.REVENUE,\n",
    "        StockPupColumns.LIABILITIES: QuarterlyColumns.LIABILITIES,\n",
    "        StockPupColumns.LONG_TERM_DEBT: QuarterlyColumns.DEBT_LONG,\n",
    "        StockPupColumns.SHAREHOLDER_EQUITY: QuarterlyColumns.STOCKHOLDER_EQUITY,\n",
    "        StockPupColumns.CASH_AT_END_OF_PERIOD: QuarterlyColumns.CASH,\n",
    "        StockPupColumns.PRICE: QuarterlyColumns.PRICE_AVG,\n",
    "        StockPupColumns.PRICE_LOW: QuarterlyColumns.PRICE_LO,\n",
    "        StockPupColumns.PRICE_HIGH: QuarterlyColumns.PRICE_HI,\n",
    "        StockPupColumns.SPLIT_FACTOR: QuarterlyColumns.SPLIT,\n",
    "        StockPupColumns.SHARES_SPLIT_ADJUSTED: QuarterlyColumns.COMMON_STOCK,\n",
    "        StockPupColumns.EARNINGS: QuarterlyColumns.EARNINGS  # These aren't exactly the same\n",
    "    }, inplace=True)\n",
    "    \n",
    "    df[QuarterlyColumns.DEBT_LONG] = df[QuarterlyColumns.DEBT_LONG].apply(lambda row: int(row))\n",
    "    df[QuarterlyColumns.NET_INCOME] = df[QuarterlyColumns.EARNINGS]  # These aren't exactly the same...\n",
    "\n",
    "    # Filter only to columns in QuarterlyColumns\n",
    "    df = df[[col for col in df.columns if col in QuarterlyColumns.columns()]]\n",
    "    \n",
    "    df.set_index([QuarterlyColumns.TICKER_SYMBOL,\n",
    "                  QuarterlyColumns.QUARTER,\n",
    "                  QuarterlyColumns.YEAR],\n",
    "                 inplace=True)\n",
    "    df.sort_index(inplace=True)\n",
    "    \n",
    "    # Filter out all data in stockpup_df that exists in quarterly_df (by index)\n",
    "    df = df[~df.index.isin(quarterly_df.index)]\n",
    "    \n",
    "    # Drop duplicates (occurs if quarter end dates are close to eachother)\n",
    "    df = df.loc[~df.index.duplicated(keep='last')]\n",
    "    \n",
    "    return df\n",
    "\n",
    "stockpup_df = process_stockpup_df(stockpup_df)\n",
    "\n",
    "quarterly_df = pd.concat([quarterly_df, stockpup_df])\n",
    "quarterly_df.sort_index(inplace=True)"
   ]
  },
  {
   "cell_type": "code",
   "execution_count": 1119,
   "metadata": {},
   "outputs": [],
   "source": [
    "stock_info_df = pd.read_csv(INFO_CSV_PATH)[['tickerSymbol', 'sector', 'industry']]\n",
    "stock_info_df.rename(columns={\n",
    "    'tickerSymbol': QuarterlyColumns.TICKER_SYMBOL,\n",
    "    'sector': QuarterlyColumns.SECTOR,\n",
    "    'industry': QuarterlyColumns.INDUSTRY\n",
    "}, inplace=True)\n",
    "stock_info_df.set_index([QuarterlyColumns.TICKER_SYMBOL], inplace=True)\n",
    "\n",
    "quarterly_df = quarterly_df.join(stock_info_df, on=[QuarterlyColumns.TICKER_SYMBOL])\n",
    "\n",
    "quarterly_df[QuarterlyColumns.SECTOR].fillna(MISSING_SECTOR, inplace=True)\n",
    "quarterly_df[QuarterlyColumns.INDUSTRY].fillna(MISSING_INDUSTRY, inplace=True)\n",
    "quarterly_df[QuarterlyColumns.DEBT_SHORT].fillna(0, inplace=True)"
   ]
  },
  {
   "cell_type": "code",
   "execution_count": 1120,
   "metadata": {},
   "outputs": [],
   "source": [
    "for col_name, fn in FORMULAE.items():\n",
    "        quarterly_df[col_name] = quarterly_df.apply(fn, axis=1)\n",
    "\n",
    "market_index_df[QuarterlyColumns.VOLATILITY] = market_index_df.apply(FORMULAE[QuarterlyColumns.VOLATILITY], axis=1)\n",
    "market_index_df.set_index([QuarterlyColumns.TICKER_SYMBOL,\n",
    "                           QuarterlyColumns.QUARTER,\n",
    "                           QuarterlyColumns.YEAR],\n",
    "                          inplace=True)\n",
    "market_index_df.sort_index(inplace=True)"
   ]
  },
  {
   "cell_type": "code",
   "execution_count": 1121,
   "metadata": {},
   "outputs": [],
   "source": [
    "def get_prev_quarterly_index(index: QuarterlyIndex):\n",
    "    if index[QUARTER] == 1:\n",
    "        return QuarterlyIndex(index[TICKER_SYMBOL], 4, index[YEAR] - 1)\n",
    "\n",
    "    return QuarterlyIndex(index[TICKER_SYMBOL], index[QUARTER] - 1, index[YEAR])\n",
    "\n",
    "\n",
    "def add_delta_columns(row: pd.Series, df: pd.DataFrame, columns: list):    \n",
    "    try:\n",
    "        prev_quarter_row = df.loc[get_prev_quarterly_index(row.name)]  # row.name returns the multiIndex tuple\n",
    "    except:\n",
    "#         print(f'Unable to find prev quarter info for {row.name}')\n",
    "        prev_quarter_row = pd.DataFrame()\n",
    "    \n",
    "    if not prev_quarter_row.empty:\n",
    "        new_cols = []\n",
    "\n",
    "        for col in columns:\n",
    "            if prev_quarter_row[col] == 0:\n",
    "                new_cols.append(0)\n",
    "            else:\n",
    "                # converting to float to get rid of index terms\n",
    "                new_cols.append(float((row[col] - prev_quarter_row[col]) / prev_quarter_row[col]))\n",
    "\n",
    "        return pd.Series(new_cols)\n",
    "\n",
    "    return pd.Series([None]*len(columns))\n",
    "\n",
    "\n",
    "delta_col_names = [f'{DELTA_PREFIX}{col}' for col in DELTA_COLUMNS]\n",
    "quarterly_df[delta_col_names] = quarterly_df.apply(add_delta_columns, axis=1, df=quarterly_df, columns=DELTA_COLUMNS)\n",
    "# quarterly_df.dropna(subset=delta_col_names, inplace=True)\n",
    "\n",
    "delta_col_mkt_index_names = [f'{DELTA_PREFIX}{col}' for col in PRICE_ONLY_DELTA_COLUMNS]\n",
    "market_index_df[delta_col_mkt_index_names] = market_index_df.apply(add_delta_columns, axis=1, df=market_index_df, columns=PRICE_ONLY_DELTA_COLUMNS)\n",
    "market_index_df.dropna(subset=delta_col_mkt_index_names, inplace=True)\n"
   ]
  },
  {
   "cell_type": "code",
   "execution_count": 1122,
   "metadata": {},
   "outputs": [],
   "source": [
    "def compare_to_market_index(row: pd.Series, market_indices=None):\n",
    "    market_indices = MARKET_INDICES if not market_indices else market_indices\n",
    "    \n",
    "    new_cols = []\n",
    "    for col in VS_MARKET_INDICES_COLUMNS:\n",
    "        for mkt_idx in market_indices:\n",
    "            try:\n",
    "                mkt_idx_row = market_index_df.loc[mkt_idx, row.name[QUARTER], row.name[YEAR]]\n",
    "            except:\n",
    "#                 print(f'Unable to find {mkt_idx} Q{row.name[QUARTER]} {row.name[YEAR]}')\n",
    "                mkt_idx_row = pd.DataFrame()\n",
    "            \n",
    "            if not mkt_idx_row.empty:\n",
    "                if mkt_idx_row[col] == 0:\n",
    "                    new_cols.append(0)\n",
    "                else:\n",
    "                    # converting to float to drop index terms\n",
    "                    new_cols.append(float(row[col] / mkt_idx_row[col]))\n",
    "            else:\n",
    "                new_cols.append(None)\n",
    "\n",
    "    return pd.Series(new_cols)\n",
    "\n",
    "vs_market_indices_col_names = [f'{col}{VS_MKT_IDX}{mkt_idx}' \n",
    "                               for col in VS_MARKET_INDICES_COLUMNS for mkt_idx in MARKET_INDICES]\n",
    "quarterly_df[vs_market_indices_col_names] = quarterly_df.apply(compare_to_market_index, axis=1)\n",
    "quarterly_df.dropna(subset=vs_market_indices_col_names, inplace=True)"
   ]
  },
  {
   "cell_type": "code",
   "execution_count": 1123,
   "metadata": {},
   "outputs": [],
   "source": [
    "def get_avg_recommendation_score(row: pd.Series):\n",
    "    if row[QuarterlyColumns.AVG_RECOMMENDATIONS] is None or str(row[QuarterlyColumns.AVG_RECOMMENDATIONS]) == 'nan':\n",
    "        return pd.Series([0])\n",
    "    \n",
    "    avg_recommendation = np.mean([float(v) for v in json.loads(row[QuarterlyColumns.AVG_RECOMMENDATIONS]).values()])\n",
    "    return pd.Series([avg_recommendation])\n",
    "\n",
    "\n",
    "quarterly_df[QuarterlyColumns.AVG_RECOMMENDATION_SCORE] = quarterly_df.apply(get_avg_recommendation_score, axis=1)\n"
   ]
  },
  {
   "cell_type": "code",
   "execution_count": 1124,
   "metadata": {},
   "outputs": [],
   "source": [
    "# ---------- Break Recommendations up by firm ---------\n",
    "#      skipping for now...\n",
    "# recommendations = [json.loads(contents) if contents else {} \n",
    "#                    for contents in quarterly_df[QuarterlyColumns.AVG_RECOMMENDATIONS]]\n",
    "# recommendations = [\n",
    "#     {f'{AVG_REC_SCORE_PREFIX}{firm}': value if value is not None else 0 for firm, value in recommendation.items()} \n",
    "#     for recommendation in recommendations]\n",
    "# recommendations_df = pd.DataFrame(recommendations).fillna(0)\n",
    "\n",
    "\n",
    "# quarterly_df = pd.merge(quarterly_df, recommendations_df, left_index=True, right_index=True)"
   ]
  },
  {
   "cell_type": "code",
   "execution_count": 1125,
   "metadata": {},
   "outputs": [],
   "source": [
    "def get_next_quarterly_index(index: QuarterlyIndex):\n",
    "    if index[QUARTER] == 4:\n",
    "        return QuarterlyIndex(index[TICKER_SYMBOL], 1, index[YEAR] + 1)\n",
    "\n",
    "    return QuarterlyIndex(index[TICKER_SYMBOL], index[QUARTER] + 1, index[YEAR])\n",
    "\n",
    "def get_target_col_prediction(row: pd.Series, df: pd.DataFrame):\n",
    "    try:\n",
    "        next_quarter_data = df.loc[get_next_quarterly_index(row.name)]\n",
    "        return next_quarter_data[TARGET_COL_BASIS]\n",
    "    except: \n",
    "        return None\n",
    "\n",
    "# Add Y (target) to quarterly_df\n",
    "quarterly_df[TARGET_COLUMN] = quarterly_df.apply(get_target_col_prediction, axis=1, df=quarterly_df)"
   ]
  },
  {
   "cell_type": "code",
   "execution_count": 1126,
   "metadata": {},
   "outputs": [],
   "source": [
    "# Get dataframe of rows to make predictions on (most recent rows)\n",
    "prediction_candidate_df = quarterly_df[quarterly_df[TARGET_COLUMN].isnull()]"
   ]
  },
  {
   "cell_type": "code",
   "execution_count": 1127,
   "metadata": {},
   "outputs": [],
   "source": [
    "def split_feature_target(df: pd.DataFrame, target_col: str) -> Tuple[pd.DataFrame, pd.Series]:\n",
    "    \"\"\"\n",
    "    Split processed data into features and target.\n",
    "\n",
    "    :param df: processed data for model training.\n",
    "    :param target_col: target column name.\n",
    "    :return: X: features for model training.\n",
    "             y: targets for model training.\n",
    "    \"\"\"\n",
    "    X = df.drop(target_col, axis=1)\n",
    "    y = df[target_col]\n",
    "\n",
    "    return X, y"
   ]
  },
  {
   "cell_type": "code",
   "execution_count": 1128,
   "metadata": {},
   "outputs": [
    {
     "name": "stdout",
     "output_type": "stream",
     "text": [
      "DateFilter removed 8700 rows\n",
      "OutlierExtractor removed 4716 rows\n"
     ]
    },
    {
     "name": "stderr",
     "output_type": "stream",
     "text": [
      "/Users/ezras/.pyenv/versions/3.7.0/lib/python3.7/site-packages/ipykernel_launcher.py:21: SettingWithCopyWarning: \n",
      "A value is trying to be set on a copy of a slice from a DataFrame\n",
      "\n",
      "See the caveats in the documentation: https://pandas.pydata.org/pandas-docs/stable/user_guide/indexing.html#returning-a-view-versus-a-copy\n"
     ]
    }
   ],
   "source": [
    "class OutlierExtractor(BaseEstimator, TransformerMixin):\n",
    "    def __init__(self, columns, num_std_threshold=3):\n",
    "        self.columns = columns\n",
    "        self.threshold = num_std_threshold\n",
    "    def fit(self, X):\n",
    "        return self\n",
    "    def transform(self, X):\n",
    "        X_new = X[(np.abs(stats.zscore(X[self.columns])) < self.threshold).all(axis=1)]\n",
    "        print(f'OutlierExtractor removed {X.shape[0] - X_new.shape[0]} rows')\n",
    "        return X_new\n",
    "\n",
    "class ColumnFilter(BaseEstimator, TransformerMixin):\n",
    "    def __init__(self, columns, dropna=True):\n",
    "        self.columns = columns\n",
    "        self.dropna = dropna\n",
    "    def fit(self, X):\n",
    "        return self\n",
    "    def transform(self, X):\n",
    "        X_new = X[self.columns]\n",
    "        if self.dropna:\n",
    "            X_new.dropna(inplace=True)\n",
    "        return X_new\n",
    "\n",
    "class CategoricalToDummy(BaseEstimator, TransformerMixin):\n",
    "\n",
    "    def __init__(self, categorical_columns, drop_one=True, drop_original=True):\n",
    "        \"\"\"\n",
    "        Transforms categorical columns to one-hot-encoded columns named as such:\n",
    "            '<original column name>_<category name>'\n",
    "\n",
    "        Args\n",
    "            categorical_columns: List[str] of categorical columns in X\n",
    "            drop_one: (bool) when converting to categorical columns, whether to drop the first category name.\n",
    "                Eg. if a column has categories ['A', 'B'], drop category 'A'. (since 'B' == 1 or 0 is sufficient)\n",
    "            drop_original: (bool) when transforming categorical columns in X, whether to drop the original columns\n",
    "        \"\"\"\n",
    "        self.categorical_columns = categorical_columns\n",
    "        self.drop_one = drop_one\n",
    "        self.drop_original = drop_original\n",
    "\n",
    "    def fit(self, X, y=None):\n",
    "        X_temp = X.copy()\n",
    "        self.dummy_values = {}\n",
    "        self.base_category_by_col = {}\n",
    "\n",
    "        for col in self.categorical_columns:\n",
    "            self.dummy_values[col] = X_temp[col].unique()\n",
    "            if self.drop_one:\n",
    "                base_temp = [x for x in self.dummy_values[col] if str(x) != 'nan']\n",
    "                self.base_category_by_col[col] = base_temp[0]\n",
    "\n",
    "        return self\n",
    "\n",
    "    def transform(self, X, y=None):\n",
    "        X_temp = X.copy()\n",
    "\n",
    "        for col in self.categorical_columns:\n",
    "            for cat in self.dummy_values[col]:\n",
    "                if str(cat) == 'nan':\n",
    "                    X_temp[str(col) + '_' + str(cat)] = X_temp[col].isnull().astype(int)\n",
    "                else:\n",
    "                    X_temp[str(col) + '_' + str(cat)] = (X_temp[col] == cat).astype(int)\n",
    "            if self.drop_one:\n",
    "                X_temp.drop(labels=[str(col) + '_' + str(self.base_category_by_col[col])], axis=1, inplace=True)\n",
    "\n",
    "        if self.drop_original:\n",
    "            X_temp.drop(labels=self.categorical_columns, axis=1, inplace=True)\n",
    "\n",
    "        return X_temp\n",
    "\n",
    "class NumericalScaler(BaseEstimator, TransformerMixin):\n",
    "    def __init__(self, columns: List, **kwargs):\n",
    "        self.columns = columns\n",
    "        self.kwargs = kwargs\n",
    "    def fit(self, X):\n",
    "        self.column_transformer = ColumnTransformer(transformers=[\n",
    "            ('scaler', StandardScaler(), self.columns)\n",
    "        ])\n",
    "        self.column_transformer.fit_transform(X[self.columns])\n",
    "        return self\n",
    "    def transform(self, X):\n",
    "        X_temp = X.copy()\n",
    "        X_temp[self.columns] = self.column_transformer.transform(X)\n",
    "        return X_temp\n",
    "\n",
    "class Splitter(BaseEstimator, TransformerMixin):\n",
    "    def __init__(self, test_size=0.2, target_col=TARGET_COLUMN):\n",
    "        self.test_size = test_size\n",
    "        self.target_col = target_col\n",
    "    def fit(self, X):\n",
    "        return self\n",
    "    def transform(self, X):\n",
    "        n_test = int(len(X) * self.test_size)\n",
    "        X_test, y_test = split_feature_target(\n",
    "            X.sample(n=n_test, random_state=7), self.target_col)\n",
    "        \n",
    "        X_train, y_train = split_feature_target(\n",
    "            X.loc[~X.index.isin(X_test.index)], self.target_col)\n",
    "        \n",
    "        return X_train, y_train, X_test, y_test\n",
    "\n",
    "class IndexSwitchTransformer(BaseEstimator, TransformerMixin):\n",
    "    def __init__(self, index_columns = INDEX_COLUMNS):\n",
    "        self.index_columns = index_columns\n",
    "        self.index_df = None\n",
    "\n",
    "    def fit(self, X):\n",
    "        if self.index_df is None:\n",
    "            X_temp = X.reset_index()\n",
    "            self.index_df = X_temp[self.index_columns]\n",
    "        return self\n",
    "\n",
    "    def transform(self, X):\n",
    "        if all([col in self.index_columns for col in X.index.names]):\n",
    "            X_new = X.reset_index()\n",
    "        else:\n",
    "            X_new = X.join(self.index_df, how='left')\n",
    "            X_new = X_new.set_index(self.index_columns)\n",
    "        return X_new\n",
    "\n",
    "class DateFilter(BaseEstimator, TransformerMixin):\n",
    "    def __init__(self, start_date: date, date_column: str = QuarterlyColumns.DATE):\n",
    "        self.start_date = start_date\n",
    "        self.date_column = date_column\n",
    "    def fit(self, X):\n",
    "        return self\n",
    "    def transform(self, X):\n",
    "        X_new = X[pd.to_datetime(X[self.date_column]) >= self.start_date]\n",
    "        print(f'DateFilter removed {X.shape[0] - X_new.shape[0]} rows')\n",
    "        return X_new\n",
    "\n",
    "index_transformer = IndexSwitchTransformer(INDEX_COLUMNS)  \n",
    "numerical_scaler = NumericalScaler(FEATURE_COLUMNS)\n",
    "categorical_to_dummy = CategoricalToDummy(CATEGORICAL_COLUMNS)\n",
    "date_filter = DateFilter(start_date=datetime(2000, 1, 1))\n",
    "\n",
    "data_pipeline = Pipeline(steps=[\n",
    "    ('reset_index', index_transformer),\n",
    "    ('filter_dates', date_filter),\n",
    "    ('filter_columns', ColumnFilter(FEATURE_COLUMNS + CATEGORICAL_COLUMNS + [TARGET_COLUMN])),\n",
    "    ('extract_outliers', OutlierExtractor(FEATURE_COLUMNS)),\n",
    "    ('one_hot_encode', categorical_to_dummy),\n",
    "    ('numeric_scaler', numerical_scaler),\n",
    "    ('restore_index', index_transformer)\n",
    "])\n",
    "\n",
    "quarterly_df\n",
    "X_transformed = data_pipeline.fit_transform(quarterly_df)\n",
    "X_transformed\n",
    "X_train, y_train, X_test, y_test = Splitter().transform(X_transformed)"
   ]
  },
  {
   "cell_type": "code",
   "execution_count": 1129,
   "metadata": {},
   "outputs": [
    {
     "name": "stdout",
     "output_type": "stream",
     "text": [
      "The coefficient for AgeOfData is 0.004973125841951792\n",
      "The coefficient for Volatility is 0.0045054371485524275\n",
      "The coefficient for AvgRecommendationScore is -0.0004774359087219219\n",
      "The coefficient for AvgPriceToEarningsRatio is 0.003013046157513546\n",
      "The coefficient for DebtToEquityRatio is -0.0034213457691866286\n",
      "The coefficient for ReturnOnEquity is 0.0030929313013307617\n",
      "The coefficient for AssetsToLiabilitiesRatio is -0.0009193889111015122\n",
      "The coefficient for PriceToBookRatio is 0.008780638156057497\n",
      "The coefficient for ProfitMargin is -0.0006218236387877319\n",
      "The coefficient for Delta_PriceAvg is 0.0324992284602266\n",
      "The coefficient for Delta_Cash is 0.001415866309323121\n",
      "The coefficient for Delta_Earnings is 0.0007225639310205233\n",
      "The coefficient for Delta_AvgPriceToEarningsRatio is -0.0006569099034395622\n",
      "The coefficient for Delta_DebtToEquityRatio is -8.401634183263427e-06\n",
      "The coefficient for Delta_ReturnOnEquity is 0.0017354712407790342\n",
      "The coefficient for Delta_AssetsToLiabilitiesRatio is 0.002900858794703642\n",
      "The coefficient for Delta_PriceToBookRatio is -0.0006964660464481371\n",
      "The coefficient for Delta_ProfitMargin is 0.0003920228814458836\n",
      "The coefficient for Delta_OperatingIncome is 0.0015997566802276174\n",
      "The coefficient for Delta_PriceAvg_vs_^DJI is 0.004229315645428505\n",
      "The coefficient for Volatility_vs_^DJI is -0.002792628483291777\n",
      "The coefficient for Quarter_2 is -0.025355699705730553\n",
      "The coefficient for Quarter_3 is -0.016673448602326706\n",
      "The coefficient for Quarter_4 is 0.009934143663699045\n",
      "The coefficient for Sector_Industrials is -59675244341.613525\n",
      "The coefficient for Sector_Consumer Cyclical is 1640780683797.7793\n",
      "The coefficient for Sector_Technology is 2250167101630.7964\n",
      "The coefficient for Sector_MissingSector is -1801496823655.6506\n",
      "The coefficient for Sector_Real Estate is 2763188281783.2764\n",
      "The coefficient for Sector_Financial Services is 2870011159604.3364\n",
      "The coefficient for Sector_Consumer Defensive is -197483253805.82065\n",
      "The coefficient for Sector_Utilities is 1729276271029.135\n",
      "The coefficient for Sector_Basic Materials is -888768239337.4237\n",
      "The coefficient for Sector_Communication Services is -2607121384237.975\n",
      "The coefficient for Sector_Energy is 44398075853.20173\n",
      "The coefficient for Sector_Financial is 2870011159604.3604\n",
      "The coefficient for Industry_Airlines is 59675244341.5874\n",
      "The coefficient for Industry_Rental & Leasing Services is 59675244341.614815\n",
      "The coefficient for Industry_Specialty Retail is -1640780683797.7908\n",
      "The coefficient for Industry_Consumer Electronics is -2250167101630.788\n",
      "The coefficient for Industry_Drug Manufacturers—General is -0.01709371249610937\n",
      "The coefficient for Industry_Medical Distribution is -0.008746808234011708\n",
      "The coefficient for Industry_MissingIndustry is 1801496823655.6267\n",
      "The coefficient for Industry_Medical Devices is -0.0033921376172695405\n",
      "The coefficient for Industry_REIT—Residential is -2763188281783.2905\n",
      "The coefficient for Industry_Software—Infrastructure is -2250167101630.8027\n",
      "The coefficient for Industry_Engineering & Construction is 59675244341.58852\n",
      "The coefficient for Industry_Information Technology Services is -2250167101630.81\n",
      "The coefficient for Industry_Asset Management is -2870011159604.365\n",
      "The coefficient for Industry_Biotechnology is -0.008126807735685398\n",
      "The coefficient for Industry_Semiconductors is -2250167101630.801\n",
      "The coefficient for Industry_Farm Products is 197483253805.79797\n",
      "The coefficient for Industry_Staffing & Employment Services is 59675244341.59697\n",
      "The coefficient for Industry_Credit Services is -2870011159604.3486\n",
      "The coefficient for Industry_Software—Application is -2250167101630.79\n",
      "The coefficient for Industry_Security & Protection Services is 59675244341.62708\n",
      "The coefficient for Industry_Utilities—Regulated Electric is -1729276271029.1548\n",
      "The coefficient for Industry_Apparel Retail is -1640780683797.789\n",
      "The coefficient for Industry_Utilities—Diversified is -1729276271029.1565\n",
      "The coefficient for Industry_Insurance—Property & Casualty is -2870011159604.362\n",
      "The coefficient for Industry_Insurance—Life is -2870011159604.381\n",
      "The coefficient for Industry_Farm & Heavy Construction Machinery is 59675244341.604095\n",
      "The coefficient for Industry_Insurance—Diversified is -2870011159604.3867\n",
      "The coefficient for Industry_Insurance—Specialty is -2870011159604.3647\n",
      "The coefficient for Industry_Insurance Brokers is -2870011159604.3467\n",
      "The coefficient for Industry_Specialty Chemicals is 888768239337.4156\n",
      "The coefficient for Industry_REIT—Diversified is -2763188281783.309\n",
      "The coefficient for Industry_Semiconductor Equipment & Materials is -2250167101630.817\n",
      "The coefficient for Industry_Broadcasting is 2607121384237.9487\n",
      "The coefficient for Industry_Specialty Industrial Machinery is 59675244341.6013\n",
      "The coefficient for Industry_REIT—Specialty is -2763188281783.2935\n",
      "The coefficient for Industry_Internet Retail is -1640780683797.763\n",
      "The coefficient for Industry_Auto & Truck Dealerships is -1640780683797.785\n",
      "The coefficient for Industry_Healthcare Plans is -0.0023018143413562737\n",
      "The coefficient for Industry_Independent Oil & Gas is 888768239337.3899\n",
      "The coefficient for Industry_Chemicals is 888768239337.4036\n",
      "The coefficient for Industry_Electronic Components is -2250167101630.821\n",
      "The coefficient for Industry_REIT—Office is -2763188281783.301\n",
      "The coefficient for Industry_Electronics & Computer Distribution is -2250167101630.828\n",
      "The coefficient for Industry_Education & Training Services is 197483253805.78424\n",
      "The coefficient for Industry_Metal Fabrication is 59675244341.57319\n",
      "The coefficient for Industry_Electronic Gaming & Multimedia is 2607121384237.978\n",
      "The coefficient for Industry_Business Equipment & Supplies is 59675244341.57929\n",
      "The coefficient for Industry_Utilities—Regulated Water is -1729276271029.1272\n",
      "The coefficient for Industry_Electrical Equipment & Parts is 59675244341.60202\n",
      "The coefficient for Industry_Aerospace & Defense is 59675244341.60311\n",
      "The coefficient for Industry_Banks—Diversified is -2870011159604.376\n",
      "The coefficient for Industry_Medical Instruments & Supplies is -0.003926191231000038\n",
      "The coefficient for Industry_Leisure is -1640780683797.7988\n",
      "The coefficient for Industry_Discount Stores is 197483253805.79837\n",
      "The coefficient for Industry_Travel Services is -1640780683797.7903\n",
      "The coefficient for Industry_Packaging & Containers is -1640780683797.7927\n",
      "The coefficient for Industry_Thermal Coal is -44398075853.23498\n",
      "The coefficient for Industry_Beverages—Brewers is 197483253805.804\n",
      "The coefficient for Industry_Auto Parts is -1640780683797.794\n",
      "The coefficient for Industry_Packaged Foods is 197483253805.8018\n",
      "The coefficient for Industry_Financial Data & Stock Exchanges is -2870011159604.3296\n",
      "The coefficient for Industry_Real Estate Services is -2763188281783.2773\n",
      "The coefficient for Industry_Health Information Services is 0.015192717274049621\n",
      "The coefficient for Industry_Agricultural Inputs is 888768239337.4204\n",
      "The coefficient for Industry_Banks—Regional is -2870011159604.3716\n",
      "The coefficient for Industry_Household & Personal Products is 197483253805.80093\n",
      "The coefficient for Industry_Integrated Freight & Logistics is 59675244341.60393\n",
      "The coefficient for Industry_Communication Equipment is -2250167101630.786\n",
      "The coefficient for Industry_Steel is 888768239337.4103\n",
      "The coefficient for Industry_Entertainment is 2607121384237.977\n",
      "The coefficient for Industry_Restaurants is -1640780683797.7886\n",
      "The coefficient for Industry_Utilities—Regulated Gas is -1729276271029.1628\n",
      "The coefficient for Industry_Oil & Gas E&P is -44398075853.21833\n",
      "The coefficient for Industry_Apparel Manufacturing is -1640780683797.7864\n",
      "The coefficient for Industry_Utilities—Renewable is -1729276271029.15\n",
      "The coefficient for Industry_Railroads is 59675244341.61338\n",
      "The coefficient for Industry_Specialty Business Services is 59675244341.57354\n",
      "The coefficient for Industry_Telecom Services is 2607121384237.9243\n",
      "The coefficient for Industry_Oil & Gas Integrated is -44398075853.23095\n",
      "The coefficient for Industry_Department Stores is -1640780683797.8008\n",
      "The coefficient for Industry_Computer Hardware is -2250167101630.8276\n",
      "The coefficient for Industry_Residential Construction is -1640780683797.7969\n",
      "The coefficient for Industry_REIT—Industrial is -2763188281783.301\n",
      "The coefficient for Industry_Medical Care Facilities is -0.009434682148437151\n",
      "The coefficient for Industry_Consulting Services is 59675244341.60291\n",
      "The coefficient for Industry_Drug Manufacturers—Specialty & Generic is -0.05005577161280285\n",
      "The coefficient for Industry_Capital Markets is -2870011159604.3667\n",
      "The coefficient for Industry_Auto Manufacturers is -1640780683797.7913\n",
      "The coefficient for Industry_Industrial Distribution is 59675244341.59683\n",
      "The coefficient for Industry_Internet Content & Information is 2607121384237.9697\n",
      "The coefficient for Industry_Furnishings, Fixtures & Appliances is -1640780683797.791\n",
      "The coefficient for Industry_Copper is 888768239337.4198\n",
      "The coefficient for Industry_Footwear & Accessories is -1640780683797.7703\n",
      "The coefficient for Industry_Scientific & Technical Instruments is -2250167101630.806\n",
      "The coefficient for Industry_Mortgage Finance is -2870011159604.392\n",
      "The coefficient for Industry_Luxury Goods is -1640780683797.794\n",
      "The coefficient for Industry_REIT—Retail is -2763188281783.3\n",
      "The coefficient for Industry_Solar is -2250167101630.849\n",
      "The coefficient for Industry_Oil & Gas Equipment & Services is -44398075853.228645\n",
      "The coefficient for Industry_Publishing is 2607121384237.9355\n",
      "The coefficient for Industry_Home Improvement Retail is -1640780683797.7942\n",
      "The coefficient for Industry_Lodging is -1640780683797.7942\n",
      "The coefficient for Industry_Recreational Vehicles is -1640780683797.8108\n",
      "The coefficient for Industry_Oil & Gas Drilling is -44398075853.23669\n",
      "The coefficient for Industry_Personal Services is -1640780683797.789\n",
      "The coefficient for Industry_REIT—Hotel & Motel is -2763188281783.2915\n",
      "The coefficient for Industry_Confectioners is 197483253805.79785\n",
      "The coefficient for Industry_Gambling is -1640780683797.801\n",
      "The coefficient for Industry_Advertising Agencies is 2607121384237.939\n",
      "The coefficient for Industry_Financial Conglomerates is -2870011159604.38\n",
      "The coefficient for Industry_Oil & Gas Midstream is -44398075853.225266\n",
      "The coefficient for Industry_Beverages—Non-Alcoholic is 197483253805.81686\n",
      "The coefficient for Industry_Grocery Stores is 197483253805.80917\n",
      "The coefficient for Industry_Building Products & Equipment is 59675244341.57891\n",
      "The coefficient for Industry_Resorts & Casinos is -1640780683797.7896\n",
      "The coefficient for Industry_Building Materials is 888768239337.4142\n",
      "The coefficient for Industry_Tobacco is 197483253805.8087\n",
      "The coefficient for Industry_Oil & Gas Refining & Marketing is -44398075853.21339\n",
      "The coefficient for Industry_Gold is 888768239337.4061\n",
      "The coefficient for Industry_Utilities—Independent Power Producers is -1729276271029.1726\n",
      "The coefficient for Industry_Pharmaceutical Retailers is -0.032948985406957426\n",
      "The coefficient for Industry_Other Industrial Metals & Mining is 888768239337.4099\n",
      "The coefficient for Industry_Insurance—Reinsurance is -2870011159604.3613\n",
      "The coefficient for Industry_Waste Management is 59675244341.59884\n",
      "The coefficient for Industry_Tools & Accessories is 59675244341.59976\n",
      "The coefficient for Industry_Beverages—Wineries & Distilleries is 197483253805.8101\n",
      "The coefficient for Industry_Food Distribution is 197483253805.8118\n",
      "The coefficient for Industry_REIT—Healthcare Facilities is -2763188281783.2896\n",
      "The intercept for our model is 0.05325666084638629\n",
      "**************************************************\n",
      "The score of our model is 0.06919190401719533\n",
      "Mean Absolute Error: 0.09098688384139685\n",
      "Mean Squared Error: 0.016436403280921743\n",
      "Root Mean Squared Error: 0.12820453689679528\n"
     ]
    }
   ],
   "source": [
    "reg_model = LinearRegression(fit_intercept=True,\n",
    "                             normalize=True).fit(X_train, y_train)\n",
    "\n",
    "for i, col in enumerate(X_train.columns):\n",
    "    print(f'The coefficient for {col} is {reg_model.coef_[i]}')\n",
    "print(f'The intercept for our model is {reg_model.intercept_}')\n",
    "\n",
    "score = reg_model.score(X_test, y_test)\n",
    "print('*'*50)\n",
    "print(f'The score of our model is {score}')\n",
    "\n",
    "y_pred = reg_model.predict(X_test)\n",
    "\n",
    "print('Mean Absolute Error:', metrics.mean_absolute_error(y_test, y_pred))  \n",
    "print('Mean Squared Error:', metrics.mean_squared_error(y_test, y_pred))  \n",
    "print('Root Mean Squared Error:', np.sqrt(metrics.mean_squared_error(y_test, y_pred)))\n",
    "\n",
    "abs_err = abs(y_pred - y_test) * 100.  # absolute error percentage points (eg. 5= prediction is 5% off)\n",
    "err = (y_pred - y_test) * 100."
   ]
  },
  {
   "cell_type": "code",
   "execution_count": 1130,
   "metadata": {},
   "outputs": [
    {
     "name": "stdout",
     "output_type": "stream",
     "text": [
      "**************************************************\n",
      "The score of our model is 0.06919190401719533\n",
      "Mean Absolute Error: 0.08168734018972124\n",
      "Mean Squared Error: 0.01347125658129413\n",
      "Root Mean Squared Error: 0.11606574249663046\n"
     ]
    }
   ],
   "source": [
    "booster = 'gbtree'  #'dart'  #'gblinear'\n",
    "xgb_model = XGBRegressor(seed=100,\n",
    "                         n_estimators=100,\n",
    "                         max_depth=3,\n",
    "                         learning_rate=0.1,\n",
    "                         min_child_weight=1,\n",
    "                         subsample=1,\n",
    "                         colsample_bytree=1,\n",
    "                         colsample_bylevel=1,\n",
    "                         gamma=0,\n",
    "                         booster=booster).fit(X_train, y_train)\n",
    "\n",
    "if booster == 'gblinear':\n",
    "    for i, col in enumerate(X_train.columns):\n",
    "        print(f'The coefficient for {col} is {xgb_model.coef_[i]}')\n",
    "    print(f'The intercept for our model is {xgb_model.intercept_}')\n",
    "\n",
    "xgb_score = xgb_model.score(X_test, y_test)\n",
    "print('*'*50)\n",
    "print(f'The score of our model is {score}')\n",
    "\n",
    "y_pred_xgb = xgb_model.predict(X_test)\n",
    "\n",
    "print('Mean Absolute Error:', metrics.mean_absolute_error(y_test, y_pred_xgb))  \n",
    "print('Mean Squared Error:', metrics.mean_squared_error(y_test, y_pred_xgb))  \n",
    "print('Root Mean Squared Error:', np.sqrt(metrics.mean_squared_error(y_test, y_pred_xgb)))\n",
    "\n",
    "abs_err_xgb = abs(y_pred_xgb - y_test) * 100.  # absolute error percentage points (eg. 5= prediction is 5% off)\n",
    "err_xgb = (y_pred_xgb - y_test) * 100."
   ]
  },
  {
   "cell_type": "code",
   "execution_count": 1131,
   "metadata": {},
   "outputs": [
    {
     "data": {
      "text/plain": [
       "Text(0.5, 0, 'DeltaPriceAvg% Error')"
      ]
     },
     "execution_count": 1131,
     "metadata": {},
     "output_type": "execute_result"
    },
    {
     "data": {
      "image/png": "[encoded data removed]",
      "text/plain": [
       "<Figure size 648x504 with 1 Axes>"
      ]
     },
     "metadata": {
      "needs_background": "light"
     },
     "output_type": "display_data"
    }
   ],
   "source": [
    "from collections import Counter\n",
    "\n",
    "def get_counts_by_bin(items: pd.Series, bins: List):\n",
    "    items = sorted(items)\n",
    "    bins = sorted(bins)\n",
    "    \n",
    "    assigned = []\n",
    "    current_bin = 0\n",
    "    for item in items:\n",
    "        while(item > bins[current_bin] and current_bin < len(bins) - 1):\n",
    "            current_bin += 1\n",
    "        \n",
    "        assigned.append(current_bin)\n",
    "    \n",
    "    return {bins[key]: value for key, value in Counter(assigned).items()}\n",
    "    \n",
    "    \n",
    "\n",
    "bins = [-10 +.2*i for i in range(100)]\n",
    "\n",
    "counts_by_bin = get_counts_by_bin(err, bins)\n",
    "\n",
    "fig, ax1 = plt.subplots(figsize=(9, 7))\n",
    "fig.subplots_adjust(left=0.115, right=0.88)\n",
    "ax1.bar(counts_by_bin.keys(), height=counts_by_bin.values(), width=0.5)\n",
    "ax1.set_ylabel('# Rows')\n",
    "ax1.set_xlabel('DeltaPriceAvg% Error')\n"
   ]
  },
  {
   "cell_type": "code",
   "execution_count": 1132,
   "metadata": {},
   "outputs": [
    {
     "name": "stderr",
     "output_type": "stream",
     "text": [
      "/Users/ezras/.pyenv/versions/3.7.0/lib/python3.7/site-packages/ipykernel_launcher.py:21: SettingWithCopyWarning: \n",
      "A value is trying to be set on a copy of a slice from a DataFrame\n",
      "\n",
      "See the caveats in the documentation: https://pandas.pydata.org/pandas-docs/stable/user_guide/indexing.html#returning-a-view-versus-a-copy\n",
      "/Users/ezras/.pyenv/versions/3.7.0/lib/python3.7/site-packages/ipykernel_launcher.py:21: SettingWithCopyWarning: \n",
      "A value is trying to be set on a copy of a slice from a DataFrame\n",
      "\n",
      "See the caveats in the documentation: https://pandas.pydata.org/pandas-docs/stable/user_guide/indexing.html#returning-a-view-versus-a-copy\n"
     ]
    },
    {
     "name": "stdout",
     "output_type": "stream",
     "text": [
      "Evaluating performance for Q1 2015. Current value: 1.0\n",
      "Evaluating performance for Q2 2015. Current value: 1.0218891998365076\n"
     ]
    },
    {
     "name": "stderr",
     "output_type": "stream",
     "text": [
      "/Users/ezras/.pyenv/versions/3.7.0/lib/python3.7/site-packages/ipykernel_launcher.py:21: SettingWithCopyWarning: \n",
      "A value is trying to be set on a copy of a slice from a DataFrame\n",
      "\n",
      "See the caveats in the documentation: https://pandas.pydata.org/pandas-docs/stable/user_guide/indexing.html#returning-a-view-versus-a-copy\n",
      "/Users/ezras/.pyenv/versions/3.7.0/lib/python3.7/site-packages/ipykernel_launcher.py:21: SettingWithCopyWarning: \n",
      "A value is trying to be set on a copy of a slice from a DataFrame\n",
      "\n",
      "See the caveats in the documentation: https://pandas.pydata.org/pandas-docs/stable/user_guide/indexing.html#returning-a-view-versus-a-copy\n"
     ]
    },
    {
     "name": "stdout",
     "output_type": "stream",
     "text": [
      "Evaluating performance for Q3 2015. Current value: 1.0919929103378865\n",
      "Evaluating performance for Q4 2015. Current value: 1.1886747893163645\n"
     ]
    },
    {
     "name": "stderr",
     "output_type": "stream",
     "text": [
      "/Users/ezras/.pyenv/versions/3.7.0/lib/python3.7/site-packages/ipykernel_launcher.py:21: SettingWithCopyWarning: \n",
      "A value is trying to be set on a copy of a slice from a DataFrame\n",
      "\n",
      "See the caveats in the documentation: https://pandas.pydata.org/pandas-docs/stable/user_guide/indexing.html#returning-a-view-versus-a-copy\n",
      "/Users/ezras/.pyenv/versions/3.7.0/lib/python3.7/site-packages/ipykernel_launcher.py:21: SettingWithCopyWarning: \n",
      "A value is trying to be set on a copy of a slice from a DataFrame\n",
      "\n",
      "See the caveats in the documentation: https://pandas.pydata.org/pandas-docs/stable/user_guide/indexing.html#returning-a-view-versus-a-copy\n"
     ]
    },
    {
     "name": "stdout",
     "output_type": "stream",
     "text": [
      "Evaluating performance for Q1 2016. Current value: 0.8907837371250198\n",
      "Evaluating performance for Q2 2016. Current value: 0.6972838803691722\n"
     ]
    },
    {
     "name": "stderr",
     "output_type": "stream",
     "text": [
      "/Users/ezras/.pyenv/versions/3.7.0/lib/python3.7/site-packages/ipykernel_launcher.py:21: SettingWithCopyWarning: \n",
      "A value is trying to be set on a copy of a slice from a DataFrame\n",
      "\n",
      "See the caveats in the documentation: https://pandas.pydata.org/pandas-docs/stable/user_guide/indexing.html#returning-a-view-versus-a-copy\n",
      "/Users/ezras/.pyenv/versions/3.7.0/lib/python3.7/site-packages/ipykernel_launcher.py:21: SettingWithCopyWarning: \n",
      "A value is trying to be set on a copy of a slice from a DataFrame\n",
      "\n",
      "See the caveats in the documentation: https://pandas.pydata.org/pandas-docs/stable/user_guide/indexing.html#returning-a-view-versus-a-copy\n"
     ]
    },
    {
     "name": "stdout",
     "output_type": "stream",
     "text": [
      "Evaluating performance for Q3 2016. Current value: 0.8319445333294799\n",
      "Evaluating performance for Q4 2016. Current value: 0.8782263838914139\n"
     ]
    },
    {
     "name": "stderr",
     "output_type": "stream",
     "text": [
      "/Users/ezras/.pyenv/versions/3.7.0/lib/python3.7/site-packages/ipykernel_launcher.py:21: SettingWithCopyWarning: \n",
      "A value is trying to be set on a copy of a slice from a DataFrame\n",
      "\n",
      "See the caveats in the documentation: https://pandas.pydata.org/pandas-docs/stable/user_guide/indexing.html#returning-a-view-versus-a-copy\n",
      "/Users/ezras/.pyenv/versions/3.7.0/lib/python3.7/site-packages/ipykernel_launcher.py:21: SettingWithCopyWarning: \n",
      "A value is trying to be set on a copy of a slice from a DataFrame\n",
      "\n",
      "See the caveats in the documentation: https://pandas.pydata.org/pandas-docs/stable/user_guide/indexing.html#returning-a-view-versus-a-copy\n"
     ]
    },
    {
     "name": "stdout",
     "output_type": "stream",
     "text": [
      "Evaluating performance for Q1 2017. Current value: 1.0642790939546334\n",
      "Evaluating performance for Q2 2017. Current value: 0.8942808648572755\n"
     ]
    },
    {
     "name": "stderr",
     "output_type": "stream",
     "text": [
      "/Users/ezras/.pyenv/versions/3.7.0/lib/python3.7/site-packages/ipykernel_launcher.py:21: SettingWithCopyWarning: \n",
      "A value is trying to be set on a copy of a slice from a DataFrame\n",
      "\n",
      "See the caveats in the documentation: https://pandas.pydata.org/pandas-docs/stable/user_guide/indexing.html#returning-a-view-versus-a-copy\n",
      "/Users/ezras/.pyenv/versions/3.7.0/lib/python3.7/site-packages/ipykernel_launcher.py:21: SettingWithCopyWarning: \n",
      "A value is trying to be set on a copy of a slice from a DataFrame\n",
      "\n",
      "See the caveats in the documentation: https://pandas.pydata.org/pandas-docs/stable/user_guide/indexing.html#returning-a-view-versus-a-copy\n"
     ]
    },
    {
     "name": "stdout",
     "output_type": "stream",
     "text": [
      "Evaluating performance for Q3 2017. Current value: 0.9521071909701994\n",
      "Evaluating performance for Q4 2017. Current value: 0.9584691446191759\n"
     ]
    },
    {
     "name": "stderr",
     "output_type": "stream",
     "text": [
      "/Users/ezras/.pyenv/versions/3.7.0/lib/python3.7/site-packages/ipykernel_launcher.py:21: SettingWithCopyWarning: \n",
      "A value is trying to be set on a copy of a slice from a DataFrame\n",
      "\n",
      "See the caveats in the documentation: https://pandas.pydata.org/pandas-docs/stable/user_guide/indexing.html#returning-a-view-versus-a-copy\n",
      "/Users/ezras/.pyenv/versions/3.7.0/lib/python3.7/site-packages/ipykernel_launcher.py:21: SettingWithCopyWarning: \n",
      "A value is trying to be set on a copy of a slice from a DataFrame\n",
      "\n",
      "See the caveats in the documentation: https://pandas.pydata.org/pandas-docs/stable/user_guide/indexing.html#returning-a-view-versus-a-copy\n"
     ]
    },
    {
     "name": "stdout",
     "output_type": "stream",
     "text": [
      "Evaluating performance for Q1 2018. Current value: 0.9461494967993225\n",
      "Evaluating performance for Q2 2018. Current value: 0.681824451225307\n"
     ]
    },
    {
     "name": "stderr",
     "output_type": "stream",
     "text": [
      "/Users/ezras/.pyenv/versions/3.7.0/lib/python3.7/site-packages/ipykernel_launcher.py:21: SettingWithCopyWarning: \n",
      "A value is trying to be set on a copy of a slice from a DataFrame\n",
      "\n",
      "See the caveats in the documentation: https://pandas.pydata.org/pandas-docs/stable/user_guide/indexing.html#returning-a-view-versus-a-copy\n",
      "/Users/ezras/.pyenv/versions/3.7.0/lib/python3.7/site-packages/ipykernel_launcher.py:21: SettingWithCopyWarning: \n",
      "A value is trying to be set on a copy of a slice from a DataFrame\n",
      "\n",
      "See the caveats in the documentation: https://pandas.pydata.org/pandas-docs/stable/user_guide/indexing.html#returning-a-view-versus-a-copy\n"
     ]
    },
    {
     "name": "stdout",
     "output_type": "stream",
     "text": [
      "Evaluating performance for Q3 2018. Current value: 0.668263688240385\n",
      "Evaluating performance for Q4 2018. Current value: 0.7549293416976922\n"
     ]
    },
    {
     "name": "stderr",
     "output_type": "stream",
     "text": [
      "/Users/ezras/.pyenv/versions/3.7.0/lib/python3.7/site-packages/ipykernel_launcher.py:21: SettingWithCopyWarning: \n",
      "A value is trying to be set on a copy of a slice from a DataFrame\n",
      "\n",
      "See the caveats in the documentation: https://pandas.pydata.org/pandas-docs/stable/user_guide/indexing.html#returning-a-view-versus-a-copy\n",
      "/Users/ezras/.pyenv/versions/3.7.0/lib/python3.7/site-packages/ipykernel_launcher.py:21: SettingWithCopyWarning: \n",
      "A value is trying to be set on a copy of a slice from a DataFrame\n",
      "\n",
      "See the caveats in the documentation: https://pandas.pydata.org/pandas-docs/stable/user_guide/indexing.html#returning-a-view-versus-a-copy\n"
     ]
    },
    {
     "name": "stdout",
     "output_type": "stream",
     "text": [
      "Evaluating performance for Q1 2019. Current value: 0.7818031478422373\n",
      "Evaluating performance for Q2 2019. Current value: 0.9245273077993672\n"
     ]
    },
    {
     "name": "stderr",
     "output_type": "stream",
     "text": [
      "/Users/ezras/.pyenv/versions/3.7.0/lib/python3.7/site-packages/ipykernel_launcher.py:21: SettingWithCopyWarning: \n",
      "A value is trying to be set on a copy of a slice from a DataFrame\n",
      "\n",
      "See the caveats in the documentation: https://pandas.pydata.org/pandas-docs/stable/user_guide/indexing.html#returning-a-view-versus-a-copy\n",
      "/Users/ezras/.pyenv/versions/3.7.0/lib/python3.7/site-packages/ipykernel_launcher.py:21: SettingWithCopyWarning: \n",
      "A value is trying to be set on a copy of a slice from a DataFrame\n",
      "\n",
      "See the caveats in the documentation: https://pandas.pydata.org/pandas-docs/stable/user_guide/indexing.html#returning-a-view-versus-a-copy\n"
     ]
    },
    {
     "name": "stdout",
     "output_type": "stream",
     "text": [
      "Evaluating performance for Q3 2019. Current value: 0.9223961556673765\n",
      "Evaluating performance for Q4 2019. Current value: 0.7104201884720402\n"
     ]
    },
    {
     "name": "stderr",
     "output_type": "stream",
     "text": [
      "/Users/ezras/.pyenv/versions/3.7.0/lib/python3.7/site-packages/ipykernel_launcher.py:21: SettingWithCopyWarning: \n",
      "A value is trying to be set on a copy of a slice from a DataFrame\n",
      "\n",
      "See the caveats in the documentation: https://pandas.pydata.org/pandas-docs/stable/user_guide/indexing.html#returning-a-view-versus-a-copy\n",
      "/Users/ezras/.pyenv/versions/3.7.0/lib/python3.7/site-packages/ipykernel_launcher.py:21: SettingWithCopyWarning: \n",
      "A value is trying to be set on a copy of a slice from a DataFrame\n",
      "\n",
      "See the caveats in the documentation: https://pandas.pydata.org/pandas-docs/stable/user_guide/indexing.html#returning-a-view-versus-a-copy\n"
     ]
    },
    {
     "name": "stdout",
     "output_type": "stream",
     "text": [
      "Evaluating performance for Q1 2015. Current value: 1.0\n",
      "Evaluating performance for Q2 2015. Current value: 0.9826152926140228\n"
     ]
    },
    {
     "name": "stderr",
     "output_type": "stream",
     "text": [
      "/Users/ezras/.pyenv/versions/3.7.0/lib/python3.7/site-packages/ipykernel_launcher.py:21: SettingWithCopyWarning: \n",
      "A value is trying to be set on a copy of a slice from a DataFrame\n",
      "\n",
      "See the caveats in the documentation: https://pandas.pydata.org/pandas-docs/stable/user_guide/indexing.html#returning-a-view-versus-a-copy\n",
      "/Users/ezras/.pyenv/versions/3.7.0/lib/python3.7/site-packages/ipykernel_launcher.py:21: SettingWithCopyWarning: \n",
      "A value is trying to be set on a copy of a slice from a DataFrame\n",
      "\n",
      "See the caveats in the documentation: https://pandas.pydata.org/pandas-docs/stable/user_guide/indexing.html#returning-a-view-versus-a-copy\n"
     ]
    },
    {
     "name": "stdout",
     "output_type": "stream",
     "text": [
      "Evaluating performance for Q3 2015. Current value: 1.0159854942473179\n",
      "Evaluating performance for Q4 2015. Current value: 1.0705235324903448\n"
     ]
    },
    {
     "name": "stderr",
     "output_type": "stream",
     "text": [
      "/Users/ezras/.pyenv/versions/3.7.0/lib/python3.7/site-packages/ipykernel_launcher.py:21: SettingWithCopyWarning: \n",
      "A value is trying to be set on a copy of a slice from a DataFrame\n",
      "\n",
      "See the caveats in the documentation: https://pandas.pydata.org/pandas-docs/stable/user_guide/indexing.html#returning-a-view-versus-a-copy\n",
      "/Users/ezras/.pyenv/versions/3.7.0/lib/python3.7/site-packages/ipykernel_launcher.py:21: SettingWithCopyWarning: \n",
      "A value is trying to be set on a copy of a slice from a DataFrame\n",
      "\n",
      "See the caveats in the documentation: https://pandas.pydata.org/pandas-docs/stable/user_guide/indexing.html#returning-a-view-versus-a-copy\n"
     ]
    },
    {
     "name": "stdout",
     "output_type": "stream",
     "text": [
      "Evaluating performance for Q1 2016. Current value: 0.8677307113734692\n",
      "Evaluating performance for Q2 2016. Current value: 0.6955064050571806\n"
     ]
    },
    {
     "name": "stderr",
     "output_type": "stream",
     "text": [
      "/Users/ezras/.pyenv/versions/3.7.0/lib/python3.7/site-packages/ipykernel_launcher.py:21: SettingWithCopyWarning: \n",
      "A value is trying to be set on a copy of a slice from a DataFrame\n",
      "\n",
      "See the caveats in the documentation: https://pandas.pydata.org/pandas-docs/stable/user_guide/indexing.html#returning-a-view-versus-a-copy\n",
      "/Users/ezras/.pyenv/versions/3.7.0/lib/python3.7/site-packages/ipykernel_launcher.py:21: SettingWithCopyWarning: \n",
      "A value is trying to be set on a copy of a slice from a DataFrame\n",
      "\n",
      "See the caveats in the documentation: https://pandas.pydata.org/pandas-docs/stable/user_guide/indexing.html#returning-a-view-versus-a-copy\n"
     ]
    },
    {
     "name": "stdout",
     "output_type": "stream",
     "text": [
      "Evaluating performance for Q3 2016. Current value: 0.8112924084699881\n",
      "Evaluating performance for Q4 2016. Current value: 0.8662999292778228\n"
     ]
    },
    {
     "name": "stderr",
     "output_type": "stream",
     "text": [
      "/Users/ezras/.pyenv/versions/3.7.0/lib/python3.7/site-packages/ipykernel_launcher.py:21: SettingWithCopyWarning: \n",
      "A value is trying to be set on a copy of a slice from a DataFrame\n",
      "\n",
      "See the caveats in the documentation: https://pandas.pydata.org/pandas-docs/stable/user_guide/indexing.html#returning-a-view-versus-a-copy\n",
      "/Users/ezras/.pyenv/versions/3.7.0/lib/python3.7/site-packages/ipykernel_launcher.py:21: SettingWithCopyWarning: \n",
      "A value is trying to be set on a copy of a slice from a DataFrame\n",
      "\n",
      "See the caveats in the documentation: https://pandas.pydata.org/pandas-docs/stable/user_guide/indexing.html#returning-a-view-versus-a-copy\n"
     ]
    },
    {
     "name": "stdout",
     "output_type": "stream",
     "text": [
      "Evaluating performance for Q1 2017. Current value: 1.0495696222866726\n",
      "Evaluating performance for Q2 2017. Current value: 0.835194609342814\n"
     ]
    },
    {
     "name": "stderr",
     "output_type": "stream",
     "text": [
      "/Users/ezras/.pyenv/versions/3.7.0/lib/python3.7/site-packages/ipykernel_launcher.py:21: SettingWithCopyWarning: \n",
      "A value is trying to be set on a copy of a slice from a DataFrame\n",
      "\n",
      "See the caveats in the documentation: https://pandas.pydata.org/pandas-docs/stable/user_guide/indexing.html#returning-a-view-versus-a-copy\n",
      "/Users/ezras/.pyenv/versions/3.7.0/lib/python3.7/site-packages/ipykernel_launcher.py:21: SettingWithCopyWarning: \n",
      "A value is trying to be set on a copy of a slice from a DataFrame\n",
      "\n",
      "See the caveats in the documentation: https://pandas.pydata.org/pandas-docs/stable/user_guide/indexing.html#returning-a-view-versus-a-copy\n"
     ]
    },
    {
     "name": "stdout",
     "output_type": "stream",
     "text": [
      "Evaluating performance for Q3 2017. Current value: 0.8791113744804635\n",
      "Evaluating performance for Q4 2017. Current value: 0.883100039705318\n"
     ]
    },
    {
     "name": "stderr",
     "output_type": "stream",
     "text": [
      "/Users/ezras/.pyenv/versions/3.7.0/lib/python3.7/site-packages/ipykernel_launcher.py:21: SettingWithCopyWarning: \n",
      "A value is trying to be set on a copy of a slice from a DataFrame\n",
      "\n",
      "See the caveats in the documentation: https://pandas.pydata.org/pandas-docs/stable/user_guide/indexing.html#returning-a-view-versus-a-copy\n",
      "/Users/ezras/.pyenv/versions/3.7.0/lib/python3.7/site-packages/ipykernel_launcher.py:21: SettingWithCopyWarning: \n",
      "A value is trying to be set on a copy of a slice from a DataFrame\n",
      "\n",
      "See the caveats in the documentation: https://pandas.pydata.org/pandas-docs/stable/user_guide/indexing.html#returning-a-view-versus-a-copy\n"
     ]
    },
    {
     "name": "stdout",
     "output_type": "stream",
     "text": [
      "Evaluating performance for Q1 2018. Current value: 0.8656846512070874\n",
      "Evaluating performance for Q2 2018. Current value: 0.6088923471407093\n"
     ]
    },
    {
     "name": "stderr",
     "output_type": "stream",
     "text": [
      "/Users/ezras/.pyenv/versions/3.7.0/lib/python3.7/site-packages/ipykernel_launcher.py:21: SettingWithCopyWarning: \n",
      "A value is trying to be set on a copy of a slice from a DataFrame\n",
      "\n",
      "See the caveats in the documentation: https://pandas.pydata.org/pandas-docs/stable/user_guide/indexing.html#returning-a-view-versus-a-copy\n",
      "/Users/ezras/.pyenv/versions/3.7.0/lib/python3.7/site-packages/ipykernel_launcher.py:21: SettingWithCopyWarning: \n",
      "A value is trying to be set on a copy of a slice from a DataFrame\n",
      "\n",
      "See the caveats in the documentation: https://pandas.pydata.org/pandas-docs/stable/user_guide/indexing.html#returning-a-view-versus-a-copy\n"
     ]
    },
    {
     "name": "stdout",
     "output_type": "stream",
     "text": [
      "Evaluating performance for Q3 2018. Current value: 0.5882295201705176\n",
      "Evaluating performance for Q4 2018. Current value: 0.6679489916773886\n"
     ]
    },
    {
     "name": "stderr",
     "output_type": "stream",
     "text": [
      "/Users/ezras/.pyenv/versions/3.7.0/lib/python3.7/site-packages/ipykernel_launcher.py:21: SettingWithCopyWarning: \n",
      "A value is trying to be set on a copy of a slice from a DataFrame\n",
      "\n",
      "See the caveats in the documentation: https://pandas.pydata.org/pandas-docs/stable/user_guide/indexing.html#returning-a-view-versus-a-copy\n",
      "/Users/ezras/.pyenv/versions/3.7.0/lib/python3.7/site-packages/ipykernel_launcher.py:21: SettingWithCopyWarning: \n",
      "A value is trying to be set on a copy of a slice from a DataFrame\n",
      "\n",
      "See the caveats in the documentation: https://pandas.pydata.org/pandas-docs/stable/user_guide/indexing.html#returning-a-view-versus-a-copy\n"
     ]
    },
    {
     "name": "stdout",
     "output_type": "stream",
     "text": [
      "Evaluating performance for Q1 2019. Current value: 0.6784765014014661\n",
      "Evaluating performance for Q2 2019. Current value: 0.8528414598756139\n"
     ]
    },
    {
     "name": "stderr",
     "output_type": "stream",
     "text": [
      "/Users/ezras/.pyenv/versions/3.7.0/lib/python3.7/site-packages/ipykernel_launcher.py:21: SettingWithCopyWarning: \n",
      "A value is trying to be set on a copy of a slice from a DataFrame\n",
      "\n",
      "See the caveats in the documentation: https://pandas.pydata.org/pandas-docs/stable/user_guide/indexing.html#returning-a-view-versus-a-copy\n",
      "/Users/ezras/.pyenv/versions/3.7.0/lib/python3.7/site-packages/ipykernel_launcher.py:21: SettingWithCopyWarning: \n",
      "A value is trying to be set on a copy of a slice from a DataFrame\n",
      "\n",
      "See the caveats in the documentation: https://pandas.pydata.org/pandas-docs/stable/user_guide/indexing.html#returning-a-view-versus-a-copy\n"
     ]
    },
    {
     "name": "stdout",
     "output_type": "stream",
     "text": [
      "Evaluating performance for Q3 2019. Current value: 0.8292729833525766\n",
      "Evaluating performance for Q4 2019. Current value: 0.667684799316675\n"
     ]
    },
    {
     "name": "stderr",
     "output_type": "stream",
     "text": [
      "/Users/ezras/.pyenv/versions/3.7.0/lib/python3.7/site-packages/ipykernel_launcher.py:21: SettingWithCopyWarning: \n",
      "A value is trying to be set on a copy of a slice from a DataFrame\n",
      "\n",
      "See the caveats in the documentation: https://pandas.pydata.org/pandas-docs/stable/user_guide/indexing.html#returning-a-view-versus-a-copy\n",
      "/Users/ezras/.pyenv/versions/3.7.0/lib/python3.7/site-packages/ipykernel_launcher.py:21: SettingWithCopyWarning: \n",
      "A value is trying to be set on a copy of a slice from a DataFrame\n",
      "\n",
      "See the caveats in the documentation: https://pandas.pydata.org/pandas-docs/stable/user_guide/indexing.html#returning-a-view-versus-a-copy\n",
      "/Users/ezras/.pyenv/versions/3.7.0/lib/python3.7/site-packages/ipykernel_launcher.py:21: SettingWithCopyWarning: \n",
      "A value is trying to be set on a copy of a slice from a DataFrame\n",
      "\n",
      "See the caveats in the documentation: https://pandas.pydata.org/pandas-docs/stable/user_guide/indexing.html#returning-a-view-versus-a-copy\n",
      "/Users/ezras/.pyenv/versions/3.7.0/lib/python3.7/site-packages/ipykernel_launcher.py:21: SettingWithCopyWarning: \n",
      "A value is trying to be set on a copy of a slice from a DataFrame\n",
      "\n",
      "See the caveats in the documentation: https://pandas.pydata.org/pandas-docs/stable/user_guide/indexing.html#returning-a-view-versus-a-copy\n"
     ]
    },
    {
     "name": "stdout",
     "output_type": "stream",
     "text": [
      "Evaluating performance for Q1 2015. Current value: 1.0\n",
      "Evaluating performance for Q2 2015. Current value: 1.0436329512743505\n"
     ]
    },
    {
     "name": "stderr",
     "output_type": "stream",
     "text": [
      "/Users/ezras/.pyenv/versions/3.7.0/lib/python3.7/site-packages/ipykernel_launcher.py:21: SettingWithCopyWarning: \n",
      "A value is trying to be set on a copy of a slice from a DataFrame\n",
      "\n",
      "See the caveats in the documentation: https://pandas.pydata.org/pandas-docs/stable/user_guide/indexing.html#returning-a-view-versus-a-copy\n",
      "/Users/ezras/.pyenv/versions/3.7.0/lib/python3.7/site-packages/ipykernel_launcher.py:21: SettingWithCopyWarning: \n",
      "A value is trying to be set on a copy of a slice from a DataFrame\n",
      "\n",
      "See the caveats in the documentation: https://pandas.pydata.org/pandas-docs/stable/user_guide/indexing.html#returning-a-view-versus-a-copy\n"
     ]
    },
    {
     "name": "stdout",
     "output_type": "stream",
     "text": [
      "Evaluating performance for Q3 2015. Current value: 1.1598308902044676\n",
      "Evaluating performance for Q4 2015. Current value: 1.2712838027253643\n"
     ]
    },
    {
     "name": "stderr",
     "output_type": "stream",
     "text": [
      "/Users/ezras/.pyenv/versions/3.7.0/lib/python3.7/site-packages/ipykernel_launcher.py:21: SettingWithCopyWarning: \n",
      "A value is trying to be set on a copy of a slice from a DataFrame\n",
      "\n",
      "See the caveats in the documentation: https://pandas.pydata.org/pandas-docs/stable/user_guide/indexing.html#returning-a-view-versus-a-copy\n",
      "/Users/ezras/.pyenv/versions/3.7.0/lib/python3.7/site-packages/ipykernel_launcher.py:21: SettingWithCopyWarning: \n",
      "A value is trying to be set on a copy of a slice from a DataFrame\n",
      "\n",
      "See the caveats in the documentation: https://pandas.pydata.org/pandas-docs/stable/user_guide/indexing.html#returning-a-view-versus-a-copy\n"
     ]
    },
    {
     "name": "stdout",
     "output_type": "stream",
     "text": [
      "Evaluating performance for Q1 2016. Current value: 1.1472066212499508\n",
      "Evaluating performance for Q2 2016. Current value: 0.9415050623590566\n"
     ]
    },
    {
     "name": "stderr",
     "output_type": "stream",
     "text": [
      "/Users/ezras/.pyenv/versions/3.7.0/lib/python3.7/site-packages/ipykernel_launcher.py:21: SettingWithCopyWarning: \n",
      "A value is trying to be set on a copy of a slice from a DataFrame\n",
      "\n",
      "See the caveats in the documentation: https://pandas.pydata.org/pandas-docs/stable/user_guide/indexing.html#returning-a-view-versus-a-copy\n",
      "/Users/ezras/.pyenv/versions/3.7.0/lib/python3.7/site-packages/ipykernel_launcher.py:21: SettingWithCopyWarning: \n",
      "A value is trying to be set on a copy of a slice from a DataFrame\n",
      "\n",
      "See the caveats in the documentation: https://pandas.pydata.org/pandas-docs/stable/user_guide/indexing.html#returning-a-view-versus-a-copy\n"
     ]
    },
    {
     "name": "stdout",
     "output_type": "stream",
     "text": [
      "Evaluating performance for Q3 2016. Current value: 1.1117257068920303\n",
      "Evaluating performance for Q4 2016. Current value: 1.1425240963636467\n"
     ]
    },
    {
     "name": "stderr",
     "output_type": "stream",
     "text": [
      "/Users/ezras/.pyenv/versions/3.7.0/lib/python3.7/site-packages/ipykernel_launcher.py:21: SettingWithCopyWarning: \n",
      "A value is trying to be set on a copy of a slice from a DataFrame\n",
      "\n",
      "See the caveats in the documentation: https://pandas.pydata.org/pandas-docs/stable/user_guide/indexing.html#returning-a-view-versus-a-copy\n",
      "/Users/ezras/.pyenv/versions/3.7.0/lib/python3.7/site-packages/ipykernel_launcher.py:21: SettingWithCopyWarning: \n",
      "A value is trying to be set on a copy of a slice from a DataFrame\n",
      "\n",
      "See the caveats in the documentation: https://pandas.pydata.org/pandas-docs/stable/user_guide/indexing.html#returning-a-view-versus-a-copy\n"
     ]
    },
    {
     "name": "stdout",
     "output_type": "stream",
     "text": [
      "Evaluating performance for Q1 2017. Current value: 1.4159623621637476\n",
      "Evaluating performance for Q2 2017. Current value: 1.396706435295829\n"
     ]
    },
    {
     "name": "stderr",
     "output_type": "stream",
     "text": [
      "/Users/ezras/.pyenv/versions/3.7.0/lib/python3.7/site-packages/ipykernel_launcher.py:21: SettingWithCopyWarning: \n",
      "A value is trying to be set on a copy of a slice from a DataFrame\n",
      "\n",
      "See the caveats in the documentation: https://pandas.pydata.org/pandas-docs/stable/user_guide/indexing.html#returning-a-view-versus-a-copy\n",
      "/Users/ezras/.pyenv/versions/3.7.0/lib/python3.7/site-packages/ipykernel_launcher.py:21: SettingWithCopyWarning: \n",
      "A value is trying to be set on a copy of a slice from a DataFrame\n",
      "\n",
      "See the caveats in the documentation: https://pandas.pydata.org/pandas-docs/stable/user_guide/indexing.html#returning-a-view-versus-a-copy\n"
     ]
    },
    {
     "name": "stdout",
     "output_type": "stream",
     "text": [
      "Evaluating performance for Q3 2017. Current value: 1.4436685922056858\n",
      "Evaluating performance for Q4 2017. Current value: 1.4887049165064368\n"
     ]
    },
    {
     "name": "stderr",
     "output_type": "stream",
     "text": [
      "/Users/ezras/.pyenv/versions/3.7.0/lib/python3.7/site-packages/ipykernel_launcher.py:21: SettingWithCopyWarning: \n",
      "A value is trying to be set on a copy of a slice from a DataFrame\n",
      "\n",
      "See the caveats in the documentation: https://pandas.pydata.org/pandas-docs/stable/user_guide/indexing.html#returning-a-view-versus-a-copy\n",
      "/Users/ezras/.pyenv/versions/3.7.0/lib/python3.7/site-packages/ipykernel_launcher.py:21: SettingWithCopyWarning: \n",
      "A value is trying to be set on a copy of a slice from a DataFrame\n",
      "\n",
      "See the caveats in the documentation: https://pandas.pydata.org/pandas-docs/stable/user_guide/indexing.html#returning-a-view-versus-a-copy\n"
     ]
    },
    {
     "name": "stdout",
     "output_type": "stream",
     "text": [
      "Evaluating performance for Q1 2018. Current value: 1.4762392028827231\n",
      "Evaluating performance for Q2 2018. Current value: 1.3212285148956524\n"
     ]
    },
    {
     "name": "stderr",
     "output_type": "stream",
     "text": [
      "/Users/ezras/.pyenv/versions/3.7.0/lib/python3.7/site-packages/ipykernel_launcher.py:21: SettingWithCopyWarning: \n",
      "A value is trying to be set on a copy of a slice from a DataFrame\n",
      "\n",
      "See the caveats in the documentation: https://pandas.pydata.org/pandas-docs/stable/user_guide/indexing.html#returning-a-view-versus-a-copy\n",
      "/Users/ezras/.pyenv/versions/3.7.0/lib/python3.7/site-packages/ipykernel_launcher.py:21: SettingWithCopyWarning: \n",
      "A value is trying to be set on a copy of a slice from a DataFrame\n",
      "\n",
      "See the caveats in the documentation: https://pandas.pydata.org/pandas-docs/stable/user_guide/indexing.html#returning-a-view-versus-a-copy\n"
     ]
    },
    {
     "name": "stdout",
     "output_type": "stream",
     "text": [
      "Evaluating performance for Q3 2018. Current value: 1.471724358437146\n",
      "Evaluating performance for Q4 2018. Current value: 1.8541504981988868\n"
     ]
    },
    {
     "name": "stderr",
     "output_type": "stream",
     "text": [
      "/Users/ezras/.pyenv/versions/3.7.0/lib/python3.7/site-packages/ipykernel_launcher.py:21: SettingWithCopyWarning: \n",
      "A value is trying to be set on a copy of a slice from a DataFrame\n",
      "\n",
      "See the caveats in the documentation: https://pandas.pydata.org/pandas-docs/stable/user_guide/indexing.html#returning-a-view-versus-a-copy\n",
      "/Users/ezras/.pyenv/versions/3.7.0/lib/python3.7/site-packages/ipykernel_launcher.py:21: SettingWithCopyWarning: \n",
      "A value is trying to be set on a copy of a slice from a DataFrame\n",
      "\n",
      "See the caveats in the documentation: https://pandas.pydata.org/pandas-docs/stable/user_guide/indexing.html#returning-a-view-versus-a-copy\n"
     ]
    },
    {
     "name": "stdout",
     "output_type": "stream",
     "text": [
      "Evaluating performance for Q1 2019. Current value: 1.840756891728738\n",
      "Evaluating performance for Q2 2019. Current value: 2.0590950196974873\n"
     ]
    },
    {
     "name": "stderr",
     "output_type": "stream",
     "text": [
      "/Users/ezras/.pyenv/versions/3.7.0/lib/python3.7/site-packages/ipykernel_launcher.py:21: SettingWithCopyWarning: \n",
      "A value is trying to be set on a copy of a slice from a DataFrame\n",
      "\n",
      "See the caveats in the documentation: https://pandas.pydata.org/pandas-docs/stable/user_guide/indexing.html#returning-a-view-versus-a-copy\n",
      "/Users/ezras/.pyenv/versions/3.7.0/lib/python3.7/site-packages/ipykernel_launcher.py:21: SettingWithCopyWarning: \n",
      "A value is trying to be set on a copy of a slice from a DataFrame\n",
      "\n",
      "See the caveats in the documentation: https://pandas.pydata.org/pandas-docs/stable/user_guide/indexing.html#returning-a-view-versus-a-copy\n"
     ]
    },
    {
     "name": "stdout",
     "output_type": "stream",
     "text": [
      "Evaluating performance for Q3 2019. Current value: 2.0740382989248487\n",
      "Evaluating performance for Q4 2019. Current value: 1.784440858859993\n"
     ]
    },
    {
     "name": "stderr",
     "output_type": "stream",
     "text": [
      "/Users/ezras/.pyenv/versions/3.7.0/lib/python3.7/site-packages/ipykernel_launcher.py:21: SettingWithCopyWarning: \n",
      "A value is trying to be set on a copy of a slice from a DataFrame\n",
      "\n",
      "See the caveats in the documentation: https://pandas.pydata.org/pandas-docs/stable/user_guide/indexing.html#returning-a-view-versus-a-copy\n",
      "/Users/ezras/.pyenv/versions/3.7.0/lib/python3.7/site-packages/ipykernel_launcher.py:21: SettingWithCopyWarning: \n",
      "A value is trying to be set on a copy of a slice from a DataFrame\n",
      "\n",
      "See the caveats in the documentation: https://pandas.pydata.org/pandas-docs/stable/user_guide/indexing.html#returning-a-view-versus-a-copy\n"
     ]
    },
    {
     "name": "stdout",
     "output_type": "stream",
     "text": [
      "Evaluating performance for Q1 2015. Current value: 1.0\n",
      "Evaluating performance for Q2 2015. Current value: 0.9985440090433242\n"
     ]
    },
    {
     "name": "stderr",
     "output_type": "stream",
     "text": [
      "/Users/ezras/.pyenv/versions/3.7.0/lib/python3.7/site-packages/ipykernel_launcher.py:21: SettingWithCopyWarning: \n",
      "A value is trying to be set on a copy of a slice from a DataFrame\n",
      "\n",
      "See the caveats in the documentation: https://pandas.pydata.org/pandas-docs/stable/user_guide/indexing.html#returning-a-view-versus-a-copy\n",
      "/Users/ezras/.pyenv/versions/3.7.0/lib/python3.7/site-packages/ipykernel_launcher.py:21: SettingWithCopyWarning: \n",
      "A value is trying to be set on a copy of a slice from a DataFrame\n",
      "\n",
      "See the caveats in the documentation: https://pandas.pydata.org/pandas-docs/stable/user_guide/indexing.html#returning-a-view-versus-a-copy\n"
     ]
    },
    {
     "name": "stdout",
     "output_type": "stream",
     "text": [
      "Evaluating performance for Q3 2015. Current value: 1.0600432568360894\n",
      "Evaluating performance for Q4 2015. Current value: 1.143198566862012\n"
     ]
    },
    {
     "name": "stderr",
     "output_type": "stream",
     "text": [
      "/Users/ezras/.pyenv/versions/3.7.0/lib/python3.7/site-packages/ipykernel_launcher.py:21: SettingWithCopyWarning: \n",
      "A value is trying to be set on a copy of a slice from a DataFrame\n",
      "\n",
      "See the caveats in the documentation: https://pandas.pydata.org/pandas-docs/stable/user_guide/indexing.html#returning-a-view-versus-a-copy\n",
      "/Users/ezras/.pyenv/versions/3.7.0/lib/python3.7/site-packages/ipykernel_launcher.py:21: SettingWithCopyWarning: \n",
      "A value is trying to be set on a copy of a slice from a DataFrame\n",
      "\n",
      "See the caveats in the documentation: https://pandas.pydata.org/pandas-docs/stable/user_guide/indexing.html#returning-a-view-versus-a-copy\n"
     ]
    },
    {
     "name": "stdout",
     "output_type": "stream",
     "text": [
      "Evaluating performance for Q1 2016. Current value: 0.9831336709818271\n",
      "Evaluating performance for Q2 2016. Current value: 0.8205100793336592\n"
     ]
    },
    {
     "name": "stderr",
     "output_type": "stream",
     "text": [
      "/Users/ezras/.pyenv/versions/3.7.0/lib/python3.7/site-packages/ipykernel_launcher.py:21: SettingWithCopyWarning: \n",
      "A value is trying to be set on a copy of a slice from a DataFrame\n",
      "\n",
      "See the caveats in the documentation: https://pandas.pydata.org/pandas-docs/stable/user_guide/indexing.html#returning-a-view-versus-a-copy\n",
      "/Users/ezras/.pyenv/versions/3.7.0/lib/python3.7/site-packages/ipykernel_launcher.py:21: SettingWithCopyWarning: \n",
      "A value is trying to be set on a copy of a slice from a DataFrame\n",
      "\n",
      "See the caveats in the documentation: https://pandas.pydata.org/pandas-docs/stable/user_guide/indexing.html#returning-a-view-versus-a-copy\n"
     ]
    },
    {
     "name": "stdout",
     "output_type": "stream",
     "text": [
      "Evaluating performance for Q3 2016. Current value: 0.9586075642344839\n",
      "Evaluating performance for Q4 2016. Current value: 0.9917366890672676\n"
     ]
    },
    {
     "name": "stderr",
     "output_type": "stream",
     "text": [
      "/Users/ezras/.pyenv/versions/3.7.0/lib/python3.7/site-packages/ipykernel_launcher.py:21: SettingWithCopyWarning: \n",
      "A value is trying to be set on a copy of a slice from a DataFrame\n",
      "\n",
      "See the caveats in the documentation: https://pandas.pydata.org/pandas-docs/stable/user_guide/indexing.html#returning-a-view-versus-a-copy\n",
      "/Users/ezras/.pyenv/versions/3.7.0/lib/python3.7/site-packages/ipykernel_launcher.py:21: SettingWithCopyWarning: \n",
      "A value is trying to be set on a copy of a slice from a DataFrame\n",
      "\n",
      "See the caveats in the documentation: https://pandas.pydata.org/pandas-docs/stable/user_guide/indexing.html#returning-a-view-versus-a-copy\n"
     ]
    },
    {
     "name": "stdout",
     "output_type": "stream",
     "text": [
      "Evaluating performance for Q1 2017. Current value: 1.234426767861898\n",
      "Evaluating performance for Q2 2017. Current value: 1.0781504273815699\n"
     ]
    },
    {
     "name": "stderr",
     "output_type": "stream",
     "text": [
      "/Users/ezras/.pyenv/versions/3.7.0/lib/python3.7/site-packages/ipykernel_launcher.py:21: SettingWithCopyWarning: \n",
      "A value is trying to be set on a copy of a slice from a DataFrame\n",
      "\n",
      "See the caveats in the documentation: https://pandas.pydata.org/pandas-docs/stable/user_guide/indexing.html#returning-a-view-versus-a-copy\n",
      "/Users/ezras/.pyenv/versions/3.7.0/lib/python3.7/site-packages/ipykernel_launcher.py:21: SettingWithCopyWarning: \n",
      "A value is trying to be set on a copy of a slice from a DataFrame\n",
      "\n",
      "See the caveats in the documentation: https://pandas.pydata.org/pandas-docs/stable/user_guide/indexing.html#returning-a-view-versus-a-copy\n"
     ]
    },
    {
     "name": "stdout",
     "output_type": "stream",
     "text": [
      "Evaluating performance for Q3 2017. Current value: 1.1293489563123358\n",
      "Evaluating performance for Q4 2017. Current value: 1.1424383729092438\n"
     ]
    },
    {
     "name": "stderr",
     "output_type": "stream",
     "text": [
      "/Users/ezras/.pyenv/versions/3.7.0/lib/python3.7/site-packages/ipykernel_launcher.py:21: SettingWithCopyWarning: \n",
      "A value is trying to be set on a copy of a slice from a DataFrame\n",
      "\n",
      "See the caveats in the documentation: https://pandas.pydata.org/pandas-docs/stable/user_guide/indexing.html#returning-a-view-versus-a-copy\n",
      "/Users/ezras/.pyenv/versions/3.7.0/lib/python3.7/site-packages/ipykernel_launcher.py:21: SettingWithCopyWarning: \n",
      "A value is trying to be set on a copy of a slice from a DataFrame\n",
      "\n",
      "See the caveats in the documentation: https://pandas.pydata.org/pandas-docs/stable/user_guide/indexing.html#returning-a-view-versus-a-copy\n"
     ]
    },
    {
     "name": "stdout",
     "output_type": "stream",
     "text": [
      "Evaluating performance for Q1 2018. Current value: 1.1301468071886662\n",
      "Evaluating performance for Q2 2018. Current value: 0.8711888375633983\n"
     ]
    },
    {
     "name": "stderr",
     "output_type": "stream",
     "text": [
      "/Users/ezras/.pyenv/versions/3.7.0/lib/python3.7/site-packages/ipykernel_launcher.py:21: SettingWithCopyWarning: \n",
      "A value is trying to be set on a copy of a slice from a DataFrame\n",
      "\n",
      "See the caveats in the documentation: https://pandas.pydata.org/pandas-docs/stable/user_guide/indexing.html#returning-a-view-versus-a-copy\n",
      "/Users/ezras/.pyenv/versions/3.7.0/lib/python3.7/site-packages/ipykernel_launcher.py:21: SettingWithCopyWarning: \n",
      "A value is trying to be set on a copy of a slice from a DataFrame\n",
      "\n",
      "See the caveats in the documentation: https://pandas.pydata.org/pandas-docs/stable/user_guide/indexing.html#returning-a-view-versus-a-copy\n"
     ]
    },
    {
     "name": "stdout",
     "output_type": "stream",
     "text": [
      "Evaluating performance for Q3 2018. Current value: 0.8891522798263255\n",
      "Evaluating performance for Q4 2018. Current value: 1.0548977153652253\n"
     ]
    },
    {
     "name": "stderr",
     "output_type": "stream",
     "text": [
      "/Users/ezras/.pyenv/versions/3.7.0/lib/python3.7/site-packages/ipykernel_launcher.py:21: SettingWithCopyWarning: \n",
      "A value is trying to be set on a copy of a slice from a DataFrame\n",
      "\n",
      "See the caveats in the documentation: https://pandas.pydata.org/pandas-docs/stable/user_guide/indexing.html#returning-a-view-versus-a-copy\n",
      "/Users/ezras/.pyenv/versions/3.7.0/lib/python3.7/site-packages/ipykernel_launcher.py:21: SettingWithCopyWarning: \n",
      "A value is trying to be set on a copy of a slice from a DataFrame\n",
      "\n",
      "See the caveats in the documentation: https://pandas.pydata.org/pandas-docs/stable/user_guide/indexing.html#returning-a-view-versus-a-copy\n"
     ]
    },
    {
     "name": "stdout",
     "output_type": "stream",
     "text": [
      "Evaluating performance for Q1 2019. Current value: 1.0644973243609277\n",
      "Evaluating performance for Q2 2019. Current value: 1.2933414722194112\n"
     ]
    },
    {
     "name": "stderr",
     "output_type": "stream",
     "text": [
      "/Users/ezras/.pyenv/versions/3.7.0/lib/python3.7/site-packages/ipykernel_launcher.py:21: SettingWithCopyWarning: \n",
      "A value is trying to be set on a copy of a slice from a DataFrame\n",
      "\n",
      "See the caveats in the documentation: https://pandas.pydata.org/pandas-docs/stable/user_guide/indexing.html#returning-a-view-versus-a-copy\n",
      "/Users/ezras/.pyenv/versions/3.7.0/lib/python3.7/site-packages/ipykernel_launcher.py:21: SettingWithCopyWarning: \n",
      "A value is trying to be set on a copy of a slice from a DataFrame\n",
      "\n",
      "See the caveats in the documentation: https://pandas.pydata.org/pandas-docs/stable/user_guide/indexing.html#returning-a-view-versus-a-copy\n"
     ]
    },
    {
     "name": "stdout",
     "output_type": "stream",
     "text": [
      "Evaluating performance for Q3 2019. Current value: 1.2942767011668639\n",
      "Evaluating performance for Q4 2019. Current value: 1.07794375915357\n"
     ]
    },
    {
     "name": "stderr",
     "output_type": "stream",
     "text": [
      "/Users/ezras/.pyenv/versions/3.7.0/lib/python3.7/site-packages/ipykernel_launcher.py:21: SettingWithCopyWarning: \n",
      "A value is trying to be set on a copy of a slice from a DataFrame\n",
      "\n",
      "See the caveats in the documentation: https://pandas.pydata.org/pandas-docs/stable/user_guide/indexing.html#returning-a-view-versus-a-copy\n",
      "/Users/ezras/.pyenv/versions/3.7.0/lib/python3.7/site-packages/ipykernel_launcher.py:21: SettingWithCopyWarning: \n",
      "A value is trying to be set on a copy of a slice from a DataFrame\n",
      "\n",
      "See the caveats in the documentation: https://pandas.pydata.org/pandas-docs/stable/user_guide/indexing.html#returning-a-view-versus-a-copy\n",
      "/Users/ezras/.pyenv/versions/3.7.0/lib/python3.7/site-packages/ipykernel_launcher.py:21: SettingWithCopyWarning: \n",
      "A value is trying to be set on a copy of a slice from a DataFrame\n",
      "\n",
      "See the caveats in the documentation: https://pandas.pydata.org/pandas-docs/stable/user_guide/indexing.html#returning-a-view-versus-a-copy\n"
     ]
    },
    {
     "name": "stdout",
     "output_type": "stream",
     "text": [
      "Evaluating performance for Q1 2015. Current value: 1.0\n"
     ]
    },
    {
     "name": "stderr",
     "output_type": "stream",
     "text": [
      "/Users/ezras/.pyenv/versions/3.7.0/lib/python3.7/site-packages/ipykernel_launcher.py:21: SettingWithCopyWarning: \n",
      "A value is trying to be set on a copy of a slice from a DataFrame\n",
      "\n",
      "See the caveats in the documentation: https://pandas.pydata.org/pandas-docs/stable/user_guide/indexing.html#returning-a-view-versus-a-copy\n"
     ]
    },
    {
     "name": "stdout",
     "output_type": "stream",
     "text": [
      "Evaluating performance for Q2 2015. Current value: 1.1636454015438429\n"
     ]
    },
    {
     "name": "stderr",
     "output_type": "stream",
     "text": [
      "/Users/ezras/.pyenv/versions/3.7.0/lib/python3.7/site-packages/ipykernel_launcher.py:21: SettingWithCopyWarning: \n",
      "A value is trying to be set on a copy of a slice from a DataFrame\n",
      "\n",
      "See the caveats in the documentation: https://pandas.pydata.org/pandas-docs/stable/user_guide/indexing.html#returning-a-view-versus-a-copy\n"
     ]
    },
    {
     "name": "stdout",
     "output_type": "stream",
     "text": [
      "Evaluating performance for Q3 2015. Current value: 1.3120597323851675\n",
      "Evaluating performance for Q4 2015. Current value: 1.3364920854913014\n"
     ]
    },
    {
     "name": "stderr",
     "output_type": "stream",
     "text": [
      "/Users/ezras/.pyenv/versions/3.7.0/lib/python3.7/site-packages/ipykernel_launcher.py:21: SettingWithCopyWarning: \n",
      "A value is trying to be set on a copy of a slice from a DataFrame\n",
      "\n",
      "See the caveats in the documentation: https://pandas.pydata.org/pandas-docs/stable/user_guide/indexing.html#returning-a-view-versus-a-copy\n",
      "/Users/ezras/.pyenv/versions/3.7.0/lib/python3.7/site-packages/ipykernel_launcher.py:21: SettingWithCopyWarning: \n",
      "A value is trying to be set on a copy of a slice from a DataFrame\n",
      "\n",
      "See the caveats in the documentation: https://pandas.pydata.org/pandas-docs/stable/user_guide/indexing.html#returning-a-view-versus-a-copy\n"
     ]
    },
    {
     "name": "stdout",
     "output_type": "stream",
     "text": [
      "Evaluating performance for Q1 2016. Current value: 1.2683189571031817\n",
      "Evaluating performance for Q2 2016. Current value: 1.1748755986516135\n"
     ]
    },
    {
     "name": "stderr",
     "output_type": "stream",
     "text": [
      "/Users/ezras/.pyenv/versions/3.7.0/lib/python3.7/site-packages/ipykernel_launcher.py:21: SettingWithCopyWarning: \n",
      "A value is trying to be set on a copy of a slice from a DataFrame\n",
      "\n",
      "See the caveats in the documentation: https://pandas.pydata.org/pandas-docs/stable/user_guide/indexing.html#returning-a-view-versus-a-copy\n",
      "/Users/ezras/.pyenv/versions/3.7.0/lib/python3.7/site-packages/ipykernel_launcher.py:21: SettingWithCopyWarning: \n",
      "A value is trying to be set on a copy of a slice from a DataFrame\n",
      "\n",
      "See the caveats in the documentation: https://pandas.pydata.org/pandas-docs/stable/user_guide/indexing.html#returning-a-view-versus-a-copy\n"
     ]
    },
    {
     "name": "stdout",
     "output_type": "stream",
     "text": [
      "Evaluating performance for Q3 2016. Current value: 1.407461513327502\n",
      "Evaluating performance for Q4 2016. Current value: 1.634403506252816\n"
     ]
    },
    {
     "name": "stderr",
     "output_type": "stream",
     "text": [
      "/Users/ezras/.pyenv/versions/3.7.0/lib/python3.7/site-packages/ipykernel_launcher.py:21: SettingWithCopyWarning: \n",
      "A value is trying to be set on a copy of a slice from a DataFrame\n",
      "\n",
      "See the caveats in the documentation: https://pandas.pydata.org/pandas-docs/stable/user_guide/indexing.html#returning-a-view-versus-a-copy\n",
      "/Users/ezras/.pyenv/versions/3.7.0/lib/python3.7/site-packages/ipykernel_launcher.py:21: SettingWithCopyWarning: \n",
      "A value is trying to be set on a copy of a slice from a DataFrame\n",
      "\n",
      "See the caveats in the documentation: https://pandas.pydata.org/pandas-docs/stable/user_guide/indexing.html#returning-a-view-versus-a-copy\n"
     ]
    },
    {
     "name": "stdout",
     "output_type": "stream",
     "text": [
      "Evaluating performance for Q1 2017. Current value: 1.9024456632222413\n",
      "Evaluating performance for Q2 2017. Current value: 2.0344363692005887\n"
     ]
    },
    {
     "name": "stderr",
     "output_type": "stream",
     "text": [
      "/Users/ezras/.pyenv/versions/3.7.0/lib/python3.7/site-packages/ipykernel_launcher.py:21: SettingWithCopyWarning: \n",
      "A value is trying to be set on a copy of a slice from a DataFrame\n",
      "\n",
      "See the caveats in the documentation: https://pandas.pydata.org/pandas-docs/stable/user_guide/indexing.html#returning-a-view-versus-a-copy\n",
      "/Users/ezras/.pyenv/versions/3.7.0/lib/python3.7/site-packages/ipykernel_launcher.py:21: SettingWithCopyWarning: \n",
      "A value is trying to be set on a copy of a slice from a DataFrame\n",
      "\n",
      "See the caveats in the documentation: https://pandas.pydata.org/pandas-docs/stable/user_guide/indexing.html#returning-a-view-versus-a-copy\n"
     ]
    },
    {
     "name": "stdout",
     "output_type": "stream",
     "text": [
      "Evaluating performance for Q3 2017. Current value: 2.0729485477724103\n",
      "Evaluating performance for Q4 2017. Current value: 2.2699969939389364\n"
     ]
    },
    {
     "name": "stderr",
     "output_type": "stream",
     "text": [
      "/Users/ezras/.pyenv/versions/3.7.0/lib/python3.7/site-packages/ipykernel_launcher.py:21: SettingWithCopyWarning: \n",
      "A value is trying to be set on a copy of a slice from a DataFrame\n",
      "\n",
      "See the caveats in the documentation: https://pandas.pydata.org/pandas-docs/stable/user_guide/indexing.html#returning-a-view-versus-a-copy\n",
      "/Users/ezras/.pyenv/versions/3.7.0/lib/python3.7/site-packages/ipykernel_launcher.py:21: SettingWithCopyWarning: \n",
      "A value is trying to be set on a copy of a slice from a DataFrame\n",
      "\n",
      "See the caveats in the documentation: https://pandas.pydata.org/pandas-docs/stable/user_guide/indexing.html#returning-a-view-versus-a-copy\n"
     ]
    },
    {
     "name": "stdout",
     "output_type": "stream",
     "text": [
      "Evaluating performance for Q1 2018. Current value: 2.4596874825104265\n",
      "Evaluating performance for Q2 2018. Current value: 2.4641640816435504\n"
     ]
    },
    {
     "name": "stderr",
     "output_type": "stream",
     "text": [
      "/Users/ezras/.pyenv/versions/3.7.0/lib/python3.7/site-packages/ipykernel_launcher.py:21: SettingWithCopyWarning: \n",
      "A value is trying to be set on a copy of a slice from a DataFrame\n",
      "\n",
      "See the caveats in the documentation: https://pandas.pydata.org/pandas-docs/stable/user_guide/indexing.html#returning-a-view-versus-a-copy\n",
      "/Users/ezras/.pyenv/versions/3.7.0/lib/python3.7/site-packages/ipykernel_launcher.py:21: SettingWithCopyWarning: \n",
      "A value is trying to be set on a copy of a slice from a DataFrame\n",
      "\n",
      "See the caveats in the documentation: https://pandas.pydata.org/pandas-docs/stable/user_guide/indexing.html#returning-a-view-versus-a-copy\n"
     ]
    },
    {
     "name": "stdout",
     "output_type": "stream",
     "text": [
      "Evaluating performance for Q3 2018. Current value: 3.174333445736182\n",
      "Evaluating performance for Q4 2018. Current value: 3.5033714824105164\n"
     ]
    },
    {
     "name": "stderr",
     "output_type": "stream",
     "text": [
      "/Users/ezras/.pyenv/versions/3.7.0/lib/python3.7/site-packages/ipykernel_launcher.py:21: SettingWithCopyWarning: \n",
      "A value is trying to be set on a copy of a slice from a DataFrame\n",
      "\n",
      "See the caveats in the documentation: https://pandas.pydata.org/pandas-docs/stable/user_guide/indexing.html#returning-a-view-versus-a-copy\n",
      "/Users/ezras/.pyenv/versions/3.7.0/lib/python3.7/site-packages/ipykernel_launcher.py:21: SettingWithCopyWarning: \n",
      "A value is trying to be set on a copy of a slice from a DataFrame\n",
      "\n",
      "See the caveats in the documentation: https://pandas.pydata.org/pandas-docs/stable/user_guide/indexing.html#returning-a-view-versus-a-copy\n"
     ]
    },
    {
     "name": "stdout",
     "output_type": "stream",
     "text": [
      "Evaluating performance for Q1 2019. Current value: 3.300952605878146\n",
      "Evaluating performance for Q2 2019. Current value: 3.4641247873248644\n"
     ]
    },
    {
     "name": "stderr",
     "output_type": "stream",
     "text": [
      "/Users/ezras/.pyenv/versions/3.7.0/lib/python3.7/site-packages/ipykernel_launcher.py:21: SettingWithCopyWarning: \n",
      "A value is trying to be set on a copy of a slice from a DataFrame\n",
      "\n",
      "See the caveats in the documentation: https://pandas.pydata.org/pandas-docs/stable/user_guide/indexing.html#returning-a-view-versus-a-copy\n",
      "/Users/ezras/.pyenv/versions/3.7.0/lib/python3.7/site-packages/ipykernel_launcher.py:21: SettingWithCopyWarning: \n",
      "A value is trying to be set on a copy of a slice from a DataFrame\n",
      "\n",
      "See the caveats in the documentation: https://pandas.pydata.org/pandas-docs/stable/user_guide/indexing.html#returning-a-view-versus-a-copy\n"
     ]
    },
    {
     "name": "stdout",
     "output_type": "stream",
     "text": [
      "Evaluating performance for Q3 2019. Current value: 3.706218646227716\n",
      "Evaluating performance for Q4 2019. Current value: 3.50238053559677\n"
     ]
    },
    {
     "name": "stderr",
     "output_type": "stream",
     "text": [
      "/Users/ezras/.pyenv/versions/3.7.0/lib/python3.7/site-packages/ipykernel_launcher.py:21: SettingWithCopyWarning: \n",
      "A value is trying to be set on a copy of a slice from a DataFrame\n",
      "\n",
      "See the caveats in the documentation: https://pandas.pydata.org/pandas-docs/stable/user_guide/indexing.html#returning-a-view-versus-a-copy\n",
      "/Users/ezras/.pyenv/versions/3.7.0/lib/python3.7/site-packages/ipykernel_launcher.py:21: SettingWithCopyWarning: \n",
      "A value is trying to be set on a copy of a slice from a DataFrame\n",
      "\n",
      "See the caveats in the documentation: https://pandas.pydata.org/pandas-docs/stable/user_guide/indexing.html#returning-a-view-versus-a-copy\n",
      "/Users/ezras/.pyenv/versions/3.7.0/lib/python3.7/site-packages/ipykernel_launcher.py:21: SettingWithCopyWarning: \n",
      "A value is trying to be set on a copy of a slice from a DataFrame\n",
      "\n",
      "See the caveats in the documentation: https://pandas.pydata.org/pandas-docs/stable/user_guide/indexing.html#returning-a-view-versus-a-copy\n",
      "/Users/ezras/.pyenv/versions/3.7.0/lib/python3.7/site-packages/ipykernel_launcher.py:21: SettingWithCopyWarning: \n",
      "A value is trying to be set on a copy of a slice from a DataFrame\n",
      "\n",
      "See the caveats in the documentation: https://pandas.pydata.org/pandas-docs/stable/user_guide/indexing.html#returning-a-view-versus-a-copy\n"
     ]
    },
    {
     "name": "stdout",
     "output_type": "stream",
     "text": [
      "Evaluating performance for Q1 2015. Current value: 1.0\n",
      "Evaluating performance for Q2 2015. Current value: 1.0237591784701279\n"
     ]
    },
    {
     "name": "stderr",
     "output_type": "stream",
     "text": [
      "/Users/ezras/.pyenv/versions/3.7.0/lib/python3.7/site-packages/ipykernel_launcher.py:21: SettingWithCopyWarning: \n",
      "A value is trying to be set on a copy of a slice from a DataFrame\n",
      "\n",
      "See the caveats in the documentation: https://pandas.pydata.org/pandas-docs/stable/user_guide/indexing.html#returning-a-view-versus-a-copy\n",
      "/Users/ezras/.pyenv/versions/3.7.0/lib/python3.7/site-packages/ipykernel_launcher.py:21: SettingWithCopyWarning: \n",
      "A value is trying to be set on a copy of a slice from a DataFrame\n",
      "\n",
      "See the caveats in the documentation: https://pandas.pydata.org/pandas-docs/stable/user_guide/indexing.html#returning-a-view-versus-a-copy\n"
     ]
    },
    {
     "name": "stdout",
     "output_type": "stream",
     "text": [
      "Evaluating performance for Q3 2015. Current value: 1.0937684904656488\n",
      "Evaluating performance for Q4 2015. Current value: 1.169944498450649\n"
     ]
    },
    {
     "name": "stderr",
     "output_type": "stream",
     "text": [
      "/Users/ezras/.pyenv/versions/3.7.0/lib/python3.7/site-packages/ipykernel_launcher.py:21: SettingWithCopyWarning: \n",
      "A value is trying to be set on a copy of a slice from a DataFrame\n",
      "\n",
      "See the caveats in the documentation: https://pandas.pydata.org/pandas-docs/stable/user_guide/indexing.html#returning-a-view-versus-a-copy\n",
      "/Users/ezras/.pyenv/versions/3.7.0/lib/python3.7/site-packages/ipykernel_launcher.py:21: SettingWithCopyWarning: \n",
      "A value is trying to be set on a copy of a slice from a DataFrame\n",
      "\n",
      "See the caveats in the documentation: https://pandas.pydata.org/pandas-docs/stable/user_guide/indexing.html#returning-a-view-versus-a-copy\n"
     ]
    },
    {
     "name": "stdout",
     "output_type": "stream",
     "text": [
      "Evaluating performance for Q1 2016. Current value: 1.014680163420949\n",
      "Evaluating performance for Q2 2016. Current value: 0.8675980258508079\n"
     ]
    },
    {
     "name": "stderr",
     "output_type": "stream",
     "text": [
      "/Users/ezras/.pyenv/versions/3.7.0/lib/python3.7/site-packages/ipykernel_launcher.py:21: SettingWithCopyWarning: \n",
      "A value is trying to be set on a copy of a slice from a DataFrame\n",
      "\n",
      "See the caveats in the documentation: https://pandas.pydata.org/pandas-docs/stable/user_guide/indexing.html#returning-a-view-versus-a-copy\n",
      "/Users/ezras/.pyenv/versions/3.7.0/lib/python3.7/site-packages/ipykernel_launcher.py:21: SettingWithCopyWarning: \n",
      "A value is trying to be set on a copy of a slice from a DataFrame\n",
      "\n",
      "See the caveats in the documentation: https://pandas.pydata.org/pandas-docs/stable/user_guide/indexing.html#returning-a-view-versus-a-copy\n"
     ]
    },
    {
     "name": "stdout",
     "output_type": "stream",
     "text": [
      "Evaluating performance for Q3 2016. Current value: 1.0204985096664698\n",
      "Evaluating performance for Q4 2016. Current value: 1.0857750455932191\n"
     ]
    },
    {
     "name": "stderr",
     "output_type": "stream",
     "text": [
      "/Users/ezras/.pyenv/versions/3.7.0/lib/python3.7/site-packages/ipykernel_launcher.py:21: SettingWithCopyWarning: \n",
      "A value is trying to be set on a copy of a slice from a DataFrame\n",
      "\n",
      "See the caveats in the documentation: https://pandas.pydata.org/pandas-docs/stable/user_guide/indexing.html#returning-a-view-versus-a-copy\n",
      "/Users/ezras/.pyenv/versions/3.7.0/lib/python3.7/site-packages/ipykernel_launcher.py:21: SettingWithCopyWarning: \n",
      "A value is trying to be set on a copy of a slice from a DataFrame\n",
      "\n",
      "See the caveats in the documentation: https://pandas.pydata.org/pandas-docs/stable/user_guide/indexing.html#returning-a-view-versus-a-copy\n"
     ]
    },
    {
     "name": "stdout",
     "output_type": "stream",
     "text": [
      "Evaluating performance for Q1 2017. Current value: 1.34243879399892\n",
      "Evaluating performance for Q2 2017. Current value: 1.2097385707039747\n"
     ]
    },
    {
     "name": "stderr",
     "output_type": "stream",
     "text": [
      "/Users/ezras/.pyenv/versions/3.7.0/lib/python3.7/site-packages/ipykernel_launcher.py:21: SettingWithCopyWarning: \n",
      "A value is trying to be set on a copy of a slice from a DataFrame\n",
      "\n",
      "See the caveats in the documentation: https://pandas.pydata.org/pandas-docs/stable/user_guide/indexing.html#returning-a-view-versus-a-copy\n",
      "/Users/ezras/.pyenv/versions/3.7.0/lib/python3.7/site-packages/ipykernel_launcher.py:21: SettingWithCopyWarning: \n",
      "A value is trying to be set on a copy of a slice from a DataFrame\n",
      "\n",
      "See the caveats in the documentation: https://pandas.pydata.org/pandas-docs/stable/user_guide/indexing.html#returning-a-view-versus-a-copy\n"
     ]
    },
    {
     "name": "stdout",
     "output_type": "stream",
     "text": [
      "Evaluating performance for Q3 2017. Current value: 1.259615525762314\n",
      "Evaluating performance for Q4 2017. Current value: 1.2870038334711642\n"
     ]
    },
    {
     "name": "stderr",
     "output_type": "stream",
     "text": [
      "/Users/ezras/.pyenv/versions/3.7.0/lib/python3.7/site-packages/ipykernel_launcher.py:21: SettingWithCopyWarning: \n",
      "A value is trying to be set on a copy of a slice from a DataFrame\n",
      "\n",
      "See the caveats in the documentation: https://pandas.pydata.org/pandas-docs/stable/user_guide/indexing.html#returning-a-view-versus-a-copy\n",
      "/Users/ezras/.pyenv/versions/3.7.0/lib/python3.7/site-packages/ipykernel_launcher.py:21: SettingWithCopyWarning: \n",
      "A value is trying to be set on a copy of a slice from a DataFrame\n",
      "\n",
      "See the caveats in the documentation: https://pandas.pydata.org/pandas-docs/stable/user_guide/indexing.html#returning-a-view-versus-a-copy\n"
     ]
    },
    {
     "name": "stdout",
     "output_type": "stream",
     "text": [
      "Evaluating performance for Q1 2018. Current value: 1.2857361506582878\n",
      "Evaluating performance for Q2 2018. Current value: 1.0254871354803115\n"
     ]
    },
    {
     "name": "stderr",
     "output_type": "stream",
     "text": [
      "/Users/ezras/.pyenv/versions/3.7.0/lib/python3.7/site-packages/ipykernel_launcher.py:21: SettingWithCopyWarning: \n",
      "A value is trying to be set on a copy of a slice from a DataFrame\n",
      "\n",
      "See the caveats in the documentation: https://pandas.pydata.org/pandas-docs/stable/user_guide/indexing.html#returning-a-view-versus-a-copy\n",
      "/Users/ezras/.pyenv/versions/3.7.0/lib/python3.7/site-packages/ipykernel_launcher.py:21: SettingWithCopyWarning: \n",
      "A value is trying to be set on a copy of a slice from a DataFrame\n",
      "\n",
      "See the caveats in the documentation: https://pandas.pydata.org/pandas-docs/stable/user_guide/indexing.html#returning-a-view-versus-a-copy\n"
     ]
    },
    {
     "name": "stdout",
     "output_type": "stream",
     "text": [
      "Evaluating performance for Q3 2018. Current value: 1.0794321392018678\n",
      "Evaluating performance for Q4 2018. Current value: 1.2518588991763548\n"
     ]
    },
    {
     "name": "stderr",
     "output_type": "stream",
     "text": [
      "/Users/ezras/.pyenv/versions/3.7.0/lib/python3.7/site-packages/ipykernel_launcher.py:21: SettingWithCopyWarning: \n",
      "A value is trying to be set on a copy of a slice from a DataFrame\n",
      "\n",
      "See the caveats in the documentation: https://pandas.pydata.org/pandas-docs/stable/user_guide/indexing.html#returning-a-view-versus-a-copy\n",
      "/Users/ezras/.pyenv/versions/3.7.0/lib/python3.7/site-packages/ipykernel_launcher.py:21: SettingWithCopyWarning: \n",
      "A value is trying to be set on a copy of a slice from a DataFrame\n",
      "\n",
      "See the caveats in the documentation: https://pandas.pydata.org/pandas-docs/stable/user_guide/indexing.html#returning-a-view-versus-a-copy\n"
     ]
    },
    {
     "name": "stdout",
     "output_type": "stream",
     "text": [
      "Evaluating performance for Q1 2019. Current value: 1.2556767873363173\n",
      "Evaluating performance for Q2 2019. Current value: 1.504609082099837\n"
     ]
    },
    {
     "name": "stderr",
     "output_type": "stream",
     "text": [
      "/Users/ezras/.pyenv/versions/3.7.0/lib/python3.7/site-packages/ipykernel_launcher.py:21: SettingWithCopyWarning: \n",
      "A value is trying to be set on a copy of a slice from a DataFrame\n",
      "\n",
      "See the caveats in the documentation: https://pandas.pydata.org/pandas-docs/stable/user_guide/indexing.html#returning-a-view-versus-a-copy\n",
      "/Users/ezras/.pyenv/versions/3.7.0/lib/python3.7/site-packages/ipykernel_launcher.py:21: SettingWithCopyWarning: \n",
      "A value is trying to be set on a copy of a slice from a DataFrame\n",
      "\n",
      "See the caveats in the documentation: https://pandas.pydata.org/pandas-docs/stable/user_guide/indexing.html#returning-a-view-versus-a-copy\n"
     ]
    },
    {
     "name": "stdout",
     "output_type": "stream",
     "text": [
      "Evaluating performance for Q3 2019. Current value: 1.5183820681060112\n",
      "Evaluating performance for Q4 2019. Current value: 1.2787092110880878\n"
     ]
    },
    {
     "name": "stderr",
     "output_type": "stream",
     "text": [
      "/Users/ezras/.pyenv/versions/3.7.0/lib/python3.7/site-packages/ipykernel_launcher.py:21: SettingWithCopyWarning: \n",
      "A value is trying to be set on a copy of a slice from a DataFrame\n",
      "\n",
      "See the caveats in the documentation: https://pandas.pydata.org/pandas-docs/stable/user_guide/indexing.html#returning-a-view-versus-a-copy\n",
      "/Users/ezras/.pyenv/versions/3.7.0/lib/python3.7/site-packages/ipykernel_launcher.py:120: UserWarning: Matplotlib is currently using module://ipykernel.pylab.backend_inline, which is a non-GUI backend, so cannot show the figure.\n"
     ]
    },
    {
     "data": {
      "image/png": "[encoded data removed]",
      "text/plain": [
       "<Figure size 1080x504 with 1 Axes>"
      ]
     },
     "metadata": {
      "needs_background": "light"
     },
     "output_type": "display_data"
    }
   ],
   "source": [
    "def _q_index_to_date(q_index: QuarterlyIndex):\n",
    "    return datetime(q_index[YEAR], q_index[QUARTER]*3, 28).date()\n",
    "\n",
    "def equal_allocation(n_largest_df: pd.DataFrame, cash: float):\n",
    "    portfolio = {}\n",
    "    n = n_largest_df.shape[0]\n",
    "\n",
    "    # iter over rows, largest is shown first\n",
    "    for idx, row in n_largest_df.iterrows():\n",
    "        portfolio[idx] = cash / n\n",
    "    \n",
    "    return portfolio\n",
    "\n",
    "def fibonnaci_allocation(n_largest_df: pd.DataFrame, cash:float):\n",
    "    portfolio = {}\n",
    "    n = n_largest_df.shape[0]\n",
    "    fibonacci_seq = [1,1,2,3,5,8,13,21,34,55][:n]\n",
    "    fib_sum = sum(fibonacci_seq)\n",
    "    \n",
    "    i=n-1\n",
    "    for idx, row in n_largest_df.iterrows():\n",
    "        portfolio[idx] = cash * fibonacci_seq[i] / fib_sum\n",
    "        i -= 1\n",
    "    \n",
    "    return portfolio\n",
    "        \n",
    "\n",
    "def sell_portfolio(df, portfolio: Dict[QuarterlyIndex, float]):\n",
    "    total_value = 0\n",
    "    \n",
    "    for idx, value in portfolio.items():\n",
    "        next_quarter_idx = get_next_quarterly_index(idx)\n",
    "        try:\n",
    "            change_in_price = df.loc[next_quarter_idx][f'{DELTA_PREFIX}{QuarterlyColumns.PRICE_AVG}']\n",
    "        except:\n",
    "            print(f'Failed to find data for {next_quarter_idx}')\n",
    "            change_in_price = 0\n",
    "        total_value += value * (1 + change_in_price)\n",
    "    \n",
    "    return total_value if total_value > 0 else 0\n",
    "\n",
    "\n",
    "def _transform_df_for_prediction(df: pd.DataFrame):\n",
    "    index_transformer = IndexSwitchTransformer(INDEX_COLUMNS)\n",
    "    index_transformer.fit(df)\n",
    "    \n",
    "    data_pipeline_no_outlier_extraction = Pipeline(steps=[\n",
    "        ('reset_index', index_transformer),\n",
    "        ('filter_columns', ColumnFilter(FEATURE_COLUMNS + CATEGORICAL_COLUMNS + [TARGET_COLUMN])),\n",
    "        ('one_hot_encode', categorical_to_dummy),\n",
    "        ('numeric_scaler', numerical_scaler),\n",
    "        ('restore_index', index_transformer)\n",
    "    ])\n",
    "    \n",
    "    return data_pipeline_no_outlier_extraction.transform(df)\n",
    "\n",
    "\n",
    "def compute_performance(df: pd.DataFrame, \n",
    "                        data_pipeline: Pipeline, \n",
    "                        model, \n",
    "                        start_date: date, \n",
    "                        n: int, \n",
    "                        allocation_fn):\n",
    "    history = []\n",
    "    portfolio = {}\n",
    "    _, prev_q, now_year = _date_to_index((datetime.now() - timedelta(days=90)).date())\n",
    "    cash = 1.0\n",
    "    q_index = _date_to_index(start_date)\n",
    "    \n",
    "    while (not(q_index[QUARTER] == prev_q and q_index[YEAR] == now_year)):\n",
    "\n",
    "        if portfolio:\n",
    "            print(f'Evaluating performance for Q{q_index[QUARTER]} {q_index[YEAR]}. Current value: {cash}')\n",
    "            cash = sell_portfolio(df, portfolio)\n",
    "\n",
    "        X_q_year = df.loc(axis=0)[:, q_index[QUARTER], q_index[YEAR]]   \n",
    "        X_q_year_transformed = _transform_df_for_prediction(X_q_year)\n",
    "        y_pred = X_q_year_transformed[TARGET_COLUMN].reset_index()  # Using the indexes only\n",
    "        X_q_year_transformed.drop(columns=[TARGET_COLUMN], inplace=True)\n",
    "        \n",
    "        y_pred[TARGET_COLUMN] = model.predict(X_q_year_transformed)\n",
    "        y_pred = y_pred.set_index(INDEX_COLUMNS)\n",
    "        \n",
    "        portfolio = allocation_fn(y_pred.nlargest(n, columns=[TARGET_COLUMN]), cash)\n",
    "        \n",
    "        history.append(portfolio)\n",
    "        q_index = get_next_quarterly_index(q_index)\n",
    "    \n",
    "    history.append(portfolio)\n",
    "    \n",
    "    return sell_portfolio(df, portfolio), history\n",
    "\n",
    "start_date = datetime(2015,1,1)\n",
    "\n",
    "idx_performance = market_index_df.loc(axis=0)['^DJI',:, :]\n",
    "idx_performance = idx_performance[pd.to_datetime(idx_performance[QuarterlyColumns.DATE]) >= start_date][QuarterlyColumns.PRICE_AVG]\n",
    "values_dates = [(value, _q_index_to_date(q_index)) for value, q_index in zip(\n",
    "    idx_performance, idx_performance.index)]\n",
    "values_dates = sorted(values_dates, key=lambda x: x[1])\n",
    "# divide by initial value so that it starts at 1.0\n",
    "idx_performance = [values_dates[i][0]/values_dates[0][0] for i in range(len(values_dates))]\n",
    "dates = [values_dates[i][1] for i in range(len(values_dates))]\n",
    "\n",
    "fig, ax1 = plt.subplots(figsize=(15, 7))\n",
    "ax1.plot(dates, idx_performance, label='^DJI')\n",
    "ax1.set_ylabel('Price over time')\n",
    "ax1.set_xlabel('Time')\n",
    "ax1.set_xticks(dates)\n",
    "\n",
    "for n in [3,5,10]:\n",
    "    for allocation_fn in [equal_allocation, fibonnaci_allocation]:\n",
    "        final_value, history = compute_performance(\n",
    "            quarterly_df, data_pipeline, reg_model, start_date, n=n, allocation_fn=allocation_fn)\n",
    "\n",
    "        algorithm_performance = [sum(hist_dict.values()) for hist_dict in history]\n",
    "        ax1.plot(dates, algorithm_performance, label=f'algorithm {allocation_fn.__name__} n={n}')\n",
    "\n",
    "ax1.legend()\n",
    "ax1.grid()\n",
    "fig.show()\n",
    "\n"
   ]
  },
  {
   "cell_type": "code",
   "execution_count": 1133,
   "metadata": {},
   "outputs": [
    {
     "name": "stderr",
     "output_type": "stream",
     "text": [
      "/Users/ezras/.pyenv/versions/3.7.0/lib/python3.7/site-packages/ipykernel_launcher.py:21: SettingWithCopyWarning: \n",
      "A value is trying to be set on a copy of a slice from a DataFrame\n",
      "\n",
      "See the caveats in the documentation: https://pandas.pydata.org/pandas-docs/stable/user_guide/indexing.html#returning-a-view-versus-a-copy\n"
     ]
    },
    {
     "ename": "ValueError",
     "evalue": "matmul: Input operand 1 has a mismatch in its core dimension 0, with gufunc signature (n?,k),(k,m?)->(n?,m?) (size 36 is different from 164)",
     "output_type": "error",
     "traceback": [
      "\u001b[0;31m---------------------------------------------------------------------------\u001b[0m",
      "\u001b[0;31mValueError\u001b[0m                                Traceback (most recent call last)",
      "\u001b[0;32m<ipython-input-1133-8b1d6187f0ac>\u001b[0m in \u001b[0;36m<module>\u001b[0;34m\u001b[0m\n\u001b[1;32m      3\u001b[0m \u001b[0my_pred\u001b[0m \u001b[0;34m=\u001b[0m \u001b[0mX_q_year_transformed\u001b[0m\u001b[0;34m[\u001b[0m\u001b[0mTARGET_COLUMN\u001b[0m\u001b[0;34m]\u001b[0m\u001b[0;34m.\u001b[0m\u001b[0mreset_index\u001b[0m\u001b[0;34m(\u001b[0m\u001b[0;34m)\u001b[0m  \u001b[0;31m# Using the indexes only\u001b[0m\u001b[0;34m\u001b[0m\u001b[0m\n\u001b[1;32m      4\u001b[0m \u001b[0mX_q_year_transformed\u001b[0m\u001b[0;34m.\u001b[0m\u001b[0mdrop\u001b[0m\u001b[0;34m(\u001b[0m\u001b[0mcolumns\u001b[0m\u001b[0;34m=\u001b[0m\u001b[0;34m[\u001b[0m\u001b[0mTARGET_COLUMN\u001b[0m\u001b[0;34m]\u001b[0m\u001b[0;34m,\u001b[0m \u001b[0minplace\u001b[0m\u001b[0;34m=\u001b[0m\u001b[0;32mTrue\u001b[0m\u001b[0;34m)\u001b[0m\u001b[0;34m\u001b[0m\u001b[0m\n\u001b[0;32m----> 5\u001b[0;31m \u001b[0my_pred\u001b[0m\u001b[0;34m[\u001b[0m\u001b[0mTARGET_COLUMN\u001b[0m\u001b[0;34m]\u001b[0m \u001b[0;34m=\u001b[0m \u001b[0mreg\u001b[0m\u001b[0;34m.\u001b[0m\u001b[0mpredict\u001b[0m\u001b[0;34m(\u001b[0m\u001b[0mX_q_year_transformed\u001b[0m\u001b[0;34m)\u001b[0m\u001b[0;34m\u001b[0m\u001b[0m\n\u001b[0m\u001b[1;32m      6\u001b[0m \u001b[0my_pred\u001b[0m \u001b[0;34m=\u001b[0m \u001b[0my_pred\u001b[0m\u001b[0;34m.\u001b[0m\u001b[0mset_index\u001b[0m\u001b[0;34m(\u001b[0m\u001b[0mINDEX_COLUMNS\u001b[0m\u001b[0;34m)\u001b[0m\u001b[0;34m\u001b[0m\u001b[0m\n\u001b[1;32m      7\u001b[0m \u001b[0;34m\u001b[0m\u001b[0m\n",
      "\u001b[0;32m~/.pyenv/versions/3.7.0/lib/python3.7/site-packages/sklearn/linear_model/_base.py\u001b[0m in \u001b[0;36mpredict\u001b[0;34m(self, X)\u001b[0m\n\u001b[1;32m    223\u001b[0m             \u001b[0mReturns\u001b[0m \u001b[0mpredicted\u001b[0m \u001b[0mvalues\u001b[0m\u001b[0;34m.\u001b[0m\u001b[0;34m\u001b[0m\u001b[0m\n\u001b[1;32m    224\u001b[0m         \"\"\"\n\u001b[0;32m--> 225\u001b[0;31m         \u001b[0;32mreturn\u001b[0m \u001b[0mself\u001b[0m\u001b[0;34m.\u001b[0m\u001b[0m_decision_function\u001b[0m\u001b[0;34m(\u001b[0m\u001b[0mX\u001b[0m\u001b[0;34m)\u001b[0m\u001b[0;34m\u001b[0m\u001b[0m\n\u001b[0m\u001b[1;32m    226\u001b[0m \u001b[0;34m\u001b[0m\u001b[0m\n\u001b[1;32m    227\u001b[0m     \u001b[0m_preprocess_data\u001b[0m \u001b[0;34m=\u001b[0m \u001b[0mstaticmethod\u001b[0m\u001b[0;34m(\u001b[0m\u001b[0m_preprocess_data\u001b[0m\u001b[0;34m)\u001b[0m\u001b[0;34m\u001b[0m\u001b[0m\n",
      "\u001b[0;32m~/.pyenv/versions/3.7.0/lib/python3.7/site-packages/sklearn/linear_model/_base.py\u001b[0m in \u001b[0;36m_decision_function\u001b[0;34m(self, X)\u001b[0m\n\u001b[1;32m    207\u001b[0m         \u001b[0mX\u001b[0m \u001b[0;34m=\u001b[0m \u001b[0mcheck_array\u001b[0m\u001b[0;34m(\u001b[0m\u001b[0mX\u001b[0m\u001b[0;34m,\u001b[0m \u001b[0maccept_sparse\u001b[0m\u001b[0;34m=\u001b[0m\u001b[0;34m[\u001b[0m\u001b[0;34m'csr'\u001b[0m\u001b[0;34m,\u001b[0m \u001b[0;34m'csc'\u001b[0m\u001b[0;34m,\u001b[0m \u001b[0;34m'coo'\u001b[0m\u001b[0;34m]\u001b[0m\u001b[0;34m)\u001b[0m\u001b[0;34m\u001b[0m\u001b[0m\n\u001b[1;32m    208\u001b[0m         return safe_sparse_dot(X, self.coef_.T,\n\u001b[0;32m--> 209\u001b[0;31m                                dense_output=True) + self.intercept_\n\u001b[0m\u001b[1;32m    210\u001b[0m \u001b[0;34m\u001b[0m\u001b[0m\n\u001b[1;32m    211\u001b[0m     \u001b[0;32mdef\u001b[0m \u001b[0mpredict\u001b[0m\u001b[0;34m(\u001b[0m\u001b[0mself\u001b[0m\u001b[0;34m,\u001b[0m \u001b[0mX\u001b[0m\u001b[0;34m)\u001b[0m\u001b[0;34m:\u001b[0m\u001b[0;34m\u001b[0m\u001b[0m\n",
      "\u001b[0;32m~/.pyenv/versions/3.7.0/lib/python3.7/site-packages/sklearn/utils/extmath.py\u001b[0m in \u001b[0;36msafe_sparse_dot\u001b[0;34m(a, b, dense_output)\u001b[0m\n\u001b[1;32m    149\u001b[0m             \u001b[0mret\u001b[0m \u001b[0;34m=\u001b[0m \u001b[0mnp\u001b[0m\u001b[0;34m.\u001b[0m\u001b[0mdot\u001b[0m\u001b[0;34m(\u001b[0m\u001b[0ma\u001b[0m\u001b[0;34m,\u001b[0m \u001b[0mb\u001b[0m\u001b[0;34m)\u001b[0m\u001b[0;34m\u001b[0m\u001b[0m\n\u001b[1;32m    150\u001b[0m     \u001b[0;32melse\u001b[0m\u001b[0;34m:\u001b[0m\u001b[0;34m\u001b[0m\u001b[0m\n\u001b[0;32m--> 151\u001b[0;31m         \u001b[0mret\u001b[0m \u001b[0;34m=\u001b[0m \u001b[0ma\u001b[0m \u001b[0;34m@\u001b[0m \u001b[0mb\u001b[0m\u001b[0;34m\u001b[0m\u001b[0m\n\u001b[0m\u001b[1;32m    152\u001b[0m \u001b[0;34m\u001b[0m\u001b[0m\n\u001b[1;32m    153\u001b[0m     if (sparse.issparse(a) and sparse.issparse(b)\n",
      "\u001b[0;31mValueError\u001b[0m: matmul: Input operand 1 has a mismatch in its core dimension 0, with gufunc signature (n?,k),(k,m?)->(n?,m?) (size 36 is different from 164)"
     ]
    }
   ],
   "source": [
    "X_q_year = quarterly_df.loc(axis=0)[:, 1, 2020]   \n",
    "X_q_year_transformed = _transform_df_for_prediction(X_q_year)\n",
    "y_pred = X_q_year_transformed[TARGET_COLUMN].reset_index()  # Using the indexes only\n",
    "X_q_year_transformed.drop(columns=[TARGET_COLUMN], inplace=True)\n",
    "y_pred[TARGET_COLUMN] = reg.predict(X_q_year_transformed)\n",
    "y_pred = y_pred.set_index(INDEX_COLUMNS)\n",
    "\n",
    "y_pred.nlargest(10, columns=[TARGET_COLUMN])"
   ]
  },
  {
   "cell_type": "code",
   "execution_count": null,
   "metadata": {},
   "outputs": [],
   "source": []
  }
 ],
 "metadata": {
  "kernelspec": {
   "display_name": "Python 3",
   "language": "python",
   "name": "python3"
  }
 },
 "nbformat": 4,
 "nbformat_minor": 4
}
