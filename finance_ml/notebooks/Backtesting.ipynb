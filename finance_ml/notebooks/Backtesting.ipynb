{
 "cells": [
  {
   "cell_type": "code",
   "execution_count": 1,
   "metadata": {},
   "outputs": [
    {
     "name": "stderr",
     "output_type": "stream",
     "text": [
      "/Users/ezras/projects/personal/finance_ml/finance_ml/variants/linear_model/metamodel.py:57: SyntaxWarning:\n",
      "\n",
      "assertion is always true, perhaps remove parentheses?\n",
      "\n"
     ]
    }
   ],
   "source": [
    "import numpy as np\n",
    "import asyncio\n",
    "import pandas as pd\n",
    "import sqlite3\n",
    "import json\n",
    "import pickle\n",
    "from datetime import datetime, timedelta, date\n",
    "from collections import namedtuple, defaultdict\n",
    "from typing import Tuple\n",
    "from sklearn.linear_model import LinearRegression\n",
    "from sklearn import metrics\n",
    "from sklearn.preprocessing import StandardScaler\n",
    "from scipy import stats\n",
    "import matplotlib.pyplot as plt\n",
    "from sklearn.base import BaseEstimator, TransformerMixin\n",
    "from sklearn.pipeline import Pipeline\n",
    "from typing import List, Tuple, Dict\n",
    "from sklearn.compose import ColumnTransformer\n",
    "import warnings\n",
    "import plotly.express as px\n",
    "import plotly.graph_objects as go\n",
    "from xgboost import XGBRegressor\n",
    "from copy import deepcopy\n",
    "import os\n",
    "import sys\n",
    "import copy\n",
    "import yfinance_ez as yf\n",
    "\n",
    "module_path = os.path.abspath(os.path.join('../..'))\n",
    "if module_path not in sys.path:\n",
    "    sys.path.append(module_path)\n",
    "    \n",
    "from finance_ml.variants.linear_model.main import main\n",
    "from finance_ml.variants.linear_model.hyperparams import Hyperparams\n",
    "from finance_ml.variants.linear_model.preprocessing import (apply_engineered_columns,\n",
    "    preprocess_data, preprocess_quarterly_data, preprocess_stockpup_data, read_stock_info,\n",
    "    compare_to_market_indices)\n",
    "from finance_ml.utils.constants import (\n",
    "    QuarterlyColumns, StockPupColumns, STOCKPUP_TABLE_NAME, QUARTERLY_DB_FILE_PATH,\n",
    "    YF_QUARTERLY_TABLE_NAME, INDEX_COLUMNS, MISSING_SECTOR, MISSING_INDUSTRY,\n",
    "    STOCK_GENERAL_INFO_CSV, FORMULAE, Q_DELTA_PREFIX, YOY_DELTA_PREFIX,\n",
    "    QUARTER, YEAR, VS_MKT_IDX, CATEGORICAL_COLUMNS\n",
    ")\n",
    "\n",
    "warnings.simplefilter(action='ignore', category=FutureWarning)\n",
    "\n",
    "pd.set_option('display.max_columns', None)\n",
    "\n",
    "%load_ext autoreload\n",
    "%autoreload 2"
   ]
  },
  {
   "cell_type": "code",
   "execution_count": 5,
   "metadata": {},
   "outputs": [],
   "source": [
    "# y_pred, df = await main(hp)\n",
    "df = pd.read_parquet('/Users/ezras/projects/personal/finance_ml/finance_ml/notebooks/data/processed_210415.parquet')\n",
    "\n",
    "latest = '/Users/ezras/projects/personal/finance_ml/finance_ml/models/linear-model-2021-04-15.pickle'\n",
    "\n",
    "with open(latest, 'rb') as f:\n",
    "    metamodel = pickle.load(f)\n",
    "\n",
    "hp = metamodel.hyperparams\n",
    "model = metamodel.model"
   ]
  },
  {
   "cell_type": "code",
   "execution_count": 13,
   "metadata": {},
   "outputs": [
    {
     "name": "stderr",
     "output_type": "stream",
     "text": [
      "/Users/ezras/.pyenv/versions/3.7.0/lib/python3.7/inspect.py:732: RuntimeWarning:\n",
      "\n",
      "coroutine 'compute_performance' was never awaited\n",
      "\n"
     ]
    },
    {
     "ename": "AttributeError",
     "evalue": "'QuarterlyIndex' object has no attribute 'day'",
     "output_type": "error",
     "traceback": [
      "\u001b[0;31m---------------------------------------------------------------------------\u001b[0m",
      "\u001b[0;31mAttributeError\u001b[0m                            Traceback (most recent call last)",
      "\u001b[0;32m<ipython-input-13-f7f2615f976a>\u001b[0m in \u001b[0;36masync-def-wrapper\u001b[0;34m()\u001b[0m\n",
      "\u001b[0;32m~/projects/personal/finance_ml/finance_ml/variants/linear_model/backtest.py\u001b[0m in \u001b[0;36mcompute_performance\u001b[0;34m(df, start_date, hyperparams, end_date)\u001b[0m\n\u001b[1;32m     28\u001b[0m         \u001b[0mmetamodel\u001b[0m \u001b[0;34m=\u001b[0m \u001b[0mFinanceMLMetamodel\u001b[0m\u001b[0;34m(\u001b[0m\u001b[0mhyperparams\u001b[0m\u001b[0;34m)\u001b[0m\u001b[0;34m\u001b[0m\u001b[0m\n\u001b[1;32m     29\u001b[0m         \u001b[0;31m# Train on data starting at the previous quarter\u001b[0m\u001b[0;34m\u001b[0m\u001b[0;34m\u001b[0m\u001b[0m\n\u001b[0;32m---> 30\u001b[0;31m         \u001b[0mmetamodel\u001b[0m\u001b[0;34m.\u001b[0m\u001b[0mfit\u001b[0m\u001b[0;34m(\u001b[0m\u001b[0mdf\u001b[0m\u001b[0;34m,\u001b[0m \u001b[0mcurrent_qtr\u001b[0m\u001b[0;34m=\u001b[0m\u001b[0mportfolio\u001b[0m\u001b[0;34m.\u001b[0m\u001b[0mcurrent_quarter_idx\u001b[0m\u001b[0;34m.\u001b[0m\u001b[0mtime_travel\u001b[0m\u001b[0;34m(\u001b[0m\u001b[0;34m-\u001b[0m\u001b[0;36m1\u001b[0m\u001b[0;34m)\u001b[0m\u001b[0;34m)\u001b[0m\u001b[0;34m\u001b[0m\u001b[0m\n\u001b[0m\u001b[1;32m     31\u001b[0m \u001b[0;34m\u001b[0m\u001b[0m\n\u001b[1;32m     32\u001b[0m         date_filter = QuarterFilter(start_qtr=portfolio.current_quarter_idx,\n",
      "\u001b[0;32m~/projects/personal/finance_ml/finance_ml/variants/linear_model/metamodel.py\u001b[0m in \u001b[0;36mfit\u001b[0;34m(self, df, current_qtr)\u001b[0m\n\u001b[1;32m     29\u001b[0m \u001b[0;34m\u001b[0m\u001b[0m\n\u001b[1;32m     30\u001b[0m     \u001b[0;32mdef\u001b[0m \u001b[0mfit\u001b[0m\u001b[0;34m(\u001b[0m\u001b[0mself\u001b[0m\u001b[0;34m,\u001b[0m \u001b[0mdf\u001b[0m\u001b[0;34m:\u001b[0m \u001b[0mpd\u001b[0m\u001b[0;34m.\u001b[0m\u001b[0mDataFrame\u001b[0m\u001b[0;34m,\u001b[0m \u001b[0mcurrent_qtr\u001b[0m\u001b[0;34m:\u001b[0m \u001b[0mQuarterlyIndex\u001b[0m \u001b[0;34m=\u001b[0m \u001b[0;32mNone\u001b[0m\u001b[0;34m)\u001b[0m\u001b[0;34m:\u001b[0m\u001b[0;34m\u001b[0m\u001b[0m\n\u001b[0;32m---> 31\u001b[0;31m         \u001b[0mself\u001b[0m\u001b[0;34m.\u001b[0m\u001b[0m_build_data_pipeline\u001b[0m\u001b[0;34m(\u001b[0m\u001b[0mself\u001b[0m\u001b[0;34m.\u001b[0m\u001b[0mhyperparams\u001b[0m\u001b[0;34m,\u001b[0m \u001b[0mdf\u001b[0m\u001b[0;34m,\u001b[0m \u001b[0mcurrent_qtr\u001b[0m\u001b[0;34m)\u001b[0m\u001b[0;34m\u001b[0m\u001b[0m\n\u001b[0m\u001b[1;32m     32\u001b[0m         \u001b[0mX_transformed\u001b[0m \u001b[0;34m=\u001b[0m \u001b[0mself\u001b[0m\u001b[0;34m.\u001b[0m\u001b[0mdata_pipeline\u001b[0m\u001b[0;34m.\u001b[0m\u001b[0mfit_transform\u001b[0m\u001b[0;34m(\u001b[0m\u001b[0mdf\u001b[0m\u001b[0;34m)\u001b[0m\u001b[0;34m\u001b[0m\u001b[0m\n\u001b[1;32m     33\u001b[0m \u001b[0;34m\u001b[0m\u001b[0m\n",
      "\u001b[0;32m~/projects/personal/finance_ml/finance_ml/variants/linear_model/metamodel.py\u001b[0m in \u001b[0;36m_build_data_pipeline\u001b[0;34m(self, hyperparams, df, current_quarter)\u001b[0m\n\u001b[1;32m    114\u001b[0m         date_filter = QuarterFilter(\n\u001b[1;32m    115\u001b[0m             \u001b[0mstart_date\u001b[0m\u001b[0;34m=\u001b[0m\u001b[0mcurrent_quarter\u001b[0m\u001b[0;34m.\u001b[0m\u001b[0mtime_travel\u001b[0m\u001b[0;34m(\u001b[0m\u001b[0;34m-\u001b[0m\u001b[0mhyperparams\u001b[0m\u001b[0;34m.\u001b[0m\u001b[0mNUM_QUARTERS_FOR_TRAINING\u001b[0m\u001b[0;34m)\u001b[0m\u001b[0;34m,\u001b[0m\u001b[0;34m\u001b[0m\u001b[0m\n\u001b[0;32m--> 116\u001b[0;31m             end_date=current_quarter)\n\u001b[0m\u001b[1;32m    117\u001b[0m \u001b[0;34m\u001b[0m\u001b[0m\n\u001b[1;32m    118\u001b[0m         \u001b[0mself\u001b[0m\u001b[0;34m.\u001b[0m\u001b[0mdata_pipeline\u001b[0m \u001b[0;34m=\u001b[0m \u001b[0mPipeline\u001b[0m\u001b[0;34m(\u001b[0m\u001b[0msteps\u001b[0m\u001b[0;34m=\u001b[0m\u001b[0;34m[\u001b[0m\u001b[0;34m(\u001b[0m\u001b[0;34m'filter_dates'\u001b[0m\u001b[0;34m,\u001b[0m \u001b[0mdate_filter\u001b[0m\u001b[0;34m)\u001b[0m\u001b[0;34m]\u001b[0m\u001b[0;34m)\u001b[0m\u001b[0;34m\u001b[0m\u001b[0m\n",
      "\u001b[0;32m~/projects/personal/finance_ml/finance_ml/utils/transforms.py\u001b[0m in \u001b[0;36m__init__\u001b[0;34m(self, start_qtr, end_qtr, start_date, end_date)\u001b[0m\n\u001b[1;32m    241\u001b[0m         \u001b[0;32massert\u001b[0m \u001b[0;34m(\u001b[0m\u001b[0mstart_qtr\u001b[0m \u001b[0;32mand\u001b[0m \u001b[0mend_qtr\u001b[0m\u001b[0;34m)\u001b[0m \u001b[0;32mor\u001b[0m \u001b[0;34m(\u001b[0m\u001b[0mstart_date\u001b[0m \u001b[0;32mand\u001b[0m \u001b[0mend_date\u001b[0m\u001b[0;34m)\u001b[0m\u001b[0;34m\u001b[0m\u001b[0m\n\u001b[1;32m    242\u001b[0m \u001b[0;34m\u001b[0m\u001b[0m\n\u001b[0;32m--> 243\u001b[0;31m         \u001b[0mstart_quarter\u001b[0m \u001b[0;34m=\u001b[0m \u001b[0mstart_qtr\u001b[0m \u001b[0;32mor\u001b[0m \u001b[0mQuarterlyIndex\u001b[0m\u001b[0;34m.\u001b[0m\u001b[0mfrom_date\u001b[0m\u001b[0;34m(\u001b[0m\u001b[0mstart_date\u001b[0m\u001b[0;34m)\u001b[0m\u001b[0;34m\u001b[0m\u001b[0m\n\u001b[0m\u001b[1;32m    244\u001b[0m         \u001b[0mend_quarter\u001b[0m \u001b[0;34m=\u001b[0m \u001b[0mend_qtr\u001b[0m \u001b[0;32mor\u001b[0m \u001b[0mQuarterlyIndex\u001b[0m\u001b[0;34m.\u001b[0m\u001b[0mfrom_date\u001b[0m\u001b[0;34m(\u001b[0m\u001b[0mend_date\u001b[0m\u001b[0;34m)\u001b[0m\u001b[0;34m\u001b[0m\u001b[0m\n\u001b[1;32m    245\u001b[0m         \u001b[0mself\u001b[0m\u001b[0;34m.\u001b[0m\u001b[0mq_start\u001b[0m \u001b[0;34m=\u001b[0m \u001b[0mstart_quarter\u001b[0m\u001b[0;34m.\u001b[0m\u001b[0mquarter\u001b[0m\u001b[0;34m\u001b[0m\u001b[0m\n",
      "\u001b[0;32m~/projects/personal/finance_ml/finance_ml/utils/quarterly_index.py\u001b[0m in \u001b[0;36mfrom_date\u001b[0;34m(cls, dt)\u001b[0m\n\u001b[1;32m     62\u001b[0m     \u001b[0;32mdef\u001b[0m \u001b[0mfrom_date\u001b[0m\u001b[0;34m(\u001b[0m\u001b[0mcls\u001b[0m\u001b[0;34m,\u001b[0m \u001b[0mdt\u001b[0m\u001b[0;34m:\u001b[0m \u001b[0mdate\u001b[0m\u001b[0;34m)\u001b[0m\u001b[0;34m:\u001b[0m\u001b[0;34m\u001b[0m\u001b[0m\n\u001b[1;32m     63\u001b[0m         \u001b[0;31m# shift date into the next month if it's at the end of a month\u001b[0m\u001b[0;34m\u001b[0m\u001b[0;34m\u001b[0m\u001b[0m\n\u001b[0;32m---> 64\u001b[0;31m         \u001b[0mnew_date\u001b[0m \u001b[0;34m=\u001b[0m \u001b[0mdt\u001b[0m \u001b[0;34m+\u001b[0m \u001b[0mtimedelta\u001b[0m\u001b[0;34m(\u001b[0m\u001b[0mdays\u001b[0m\u001b[0;34m=\u001b[0m\u001b[0;36m15\u001b[0m\u001b[0;34m)\u001b[0m \u001b[0;32mif\u001b[0m \u001b[0mdt\u001b[0m\u001b[0;34m.\u001b[0m\u001b[0mday\u001b[0m \u001b[0;34m>\u001b[0m \u001b[0;36m20\u001b[0m \u001b[0;32melse\u001b[0m \u001b[0mdt\u001b[0m\u001b[0;34m\u001b[0m\u001b[0m\n\u001b[0m\u001b[1;32m     65\u001b[0m \u001b[0;34m\u001b[0m\u001b[0m\n\u001b[1;32m     66\u001b[0m         \u001b[0mq\u001b[0m \u001b[0;34m=\u001b[0m \u001b[0mMONTH_TO_QUARTER\u001b[0m\u001b[0;34m[\u001b[0m\u001b[0mnew_date\u001b[0m\u001b[0;34m.\u001b[0m\u001b[0mmonth\u001b[0m\u001b[0;34m]\u001b[0m\u001b[0;34m\u001b[0m\u001b[0m\n",
      "\u001b[0;31mAttributeError\u001b[0m: 'QuarterlyIndex' object has no attribute 'day'"
     ]
    }
   ],
   "source": [
    "from finance_ml.variants.linear_model.backtest import compute_performance\n",
    "\n",
    "loop = asyncio.get_event_loop()\n",
    "\n",
    "await compute_performance(df=df,\n",
    "                          start_date=date(2010,1,1),\n",
    "                          hyperparams=hp,\n",
    "                          end_date=None)"
   ]
  },
  {
   "cell_type": "code",
   "execution_count": null,
   "metadata": {},
   "outputs": [],
   "source": []
  },
  {
   "cell_type": "code",
   "execution_count": null,
   "metadata": {},
   "outputs": [],
   "source": []
  },
  {
   "cell_type": "code",
   "execution_count": 16,
   "metadata": {},
   "outputs": [],
   "source": []
  },
  {
   "cell_type": "code",
   "execution_count": null,
   "metadata": {},
   "outputs": [],
   "source": []
  }
 ],
 "metadata": {
  "kernelspec": {
   "display_name": "Python 3",
   "language": "python",
   "name": "python3"
  },
  "language_info": {
   "codemirror_mode": {
    "name": "ipython",
    "version": 3
   },
   "file_extension": ".py",
   "mimetype": "text/x-python",
   "name": "python",
   "nbconvert_exporter": "python",
   "pygments_lexer": "ipython3",
   "version": "3.7.0"
  }
 },
 "nbformat": 4,
 "nbformat_minor": 4
}
